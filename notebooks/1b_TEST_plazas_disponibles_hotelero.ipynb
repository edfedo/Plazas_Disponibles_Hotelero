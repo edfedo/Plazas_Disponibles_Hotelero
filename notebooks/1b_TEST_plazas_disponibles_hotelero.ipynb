{
 "cells": [
  {
   "cell_type": "markdown",
   "id": "16198fdb-555b-493d-b5b4-0a8ee6226286",
   "metadata": {},
   "source": [
    "**Presentación del Proyecto**"
   ]
  },
  {
   "cell_type": "markdown",
   "id": "bff64eb7-ba5c-4bda-82b8-0ccd84ff1ff3",
   "metadata": {},
   "source": [
    "Objetivo del Proyecto\n",
    "Este proyecto tiene como objetivo analizar la oferta de plazas disponibles en el sector hotelero y parahotelero de Ushuaia y desarrollar un modelo predictivo utilizando Random Forest para anticipar la demanda futura. El análisis se centrará en identificar patrones estacionales, variables influyentes y el impacto de eventos específicos en la disponibilidad de plazas."
   ]
  },
  {
   "cell_type": "markdown",
   "id": "22986103-87fd-4818-a45d-1dd10decd787",
   "metadata": {},
   "source": [
    "1. Análisis Exploratorio de Datos (EDA)\n",
    "Carga y Visualización de los Datos\n",
    "Primero, cargaremos y visualizaremos el conjunto de datos proporcionado."
   ]
  },
  {
   "cell_type": "code",
   "execution_count": null,
   "id": "4fac453c-dc19-4bc4-aa37-a5c81e74000d",
   "metadata": {},
   "outputs": [],
   "source": [
    "import pandas as pd\n",
    "\n",
    "# Cargar los datos\n",
    "data = pd.read_csv('path/to/your/dataset.csv')\n",
    "data.head()\n"
   ]
  },
  {
   "cell_type": "markdown",
   "id": "cfc64cd0-d73b-4e02-bd64-a1e8314ee24b",
   "metadata": {},
   "source": [
    "Análisis Descriptivo\n",
    "Calcularemos estadísticas descriptivas para entender mejor el conjunto de datos."
   ]
  },
  {
   "cell_type": "code",
   "execution_count": null,
   "id": "eb600a7d-65f2-460a-9034-47304c919291",
   "metadata": {},
   "outputs": [],
   "source": [
    "data.describe()\n"
   ]
  },
  {
   "cell_type": "markdown",
   "id": "2640c573-6229-4fe8-9143-cd9b54d12ad9",
   "metadata": {},
   "source": [
    "Visualización de Datos\n",
    "Utilizaremos gráficos para identificar patrones y tendencias en los datos."
   ]
  },
  {
   "cell_type": "code",
   "execution_count": null,
   "id": "acb0eec0-6503-4c41-aa16-af8eca41f489",
   "metadata": {},
   "outputs": [],
   "source": [
    "import matplotlib.pyplot as plt\n",
    "import seaborn as sns\n",
    "\n",
    "# Convertir el periodo y mes en formato de fecha\n",
    "data['Fecha'] = pd.to_datetime(data['Periodo'].astype(str) + '-' + data['Mes'], format='%Y-%B')\n",
    "\n",
    "# Ordenar los datos por fecha\n",
    "data = data.sort_values('Fecha')\n",
    "\n",
    "# Graficar plazas disponibles a lo largo del tiempo\n",
    "plt.figure(figsize=(14, 7))\n",
    "plt.plot(data['Fecha'], data['Plazas disponibles'], label='Plazas disponibles')\n",
    "plt.xlabel('Fecha')\n",
    "plt.ylabel('Plazas disponibles')\n",
    "plt.title('Plazas disponibles en el sector hotelero y parahotelero de Ushuaia')\n",
    "plt.legend()\n",
    "plt.show()\n"
   ]
  },
  {
   "cell_type": "markdown",
   "id": "2f3dd46f-262a-45ca-bf46-f0b4488b55f0",
   "metadata": {},
   "source": [
    "Patrones Estacionales\n",
    "Utilizaremos gráficos de series temporales para identificar los patrones estacionales"
   ]
  },
  {
   "cell_type": "code",
   "execution_count": null,
   "id": "91de6336-a0e3-47b8-88ec-f017f628fd68",
   "metadata": {},
   "outputs": [],
   "source": [
    "# Graficar series temporales para identificar patrones estacionales\n",
    "sns.lineplot(x='Fecha', y='Plazas disponibles', data=data)\n",
    "plt.title('Series temporales de plazas disponibles')\n",
    "plt.show()\n"
   ]
  },
  {
   "cell_type": "markdown",
   "id": "0bc16895-bbb9-4b0c-bf56-1325940b08d2",
   "metadata": {},
   "source": [
    "Análisis de Correlación\n",
    "Analizaremos la correlación entre las variables para identificar las más influyentes."
   ]
  },
  {
   "cell_type": "code",
   "execution_count": null,
   "id": "025f7c80-bd69-4bbd-857d-2d82e0495ce9",
   "metadata": {},
   "outputs": [],
   "source": [
    "# Matriz de correlación\n",
    "correlation_matrix = data.corr()\n",
    "sns.heatmap(correlation_matrix, annot=True)\n",
    "plt.title('Matriz de Correlación')\n",
    "plt.show()\n"
   ]
  },
  {
   "cell_type": "markdown",
   "id": "5eebaed0-7028-4dc0-8fd5-44c6b9e0d6eb",
   "metadata": {},
   "source": [
    "2. Desarrollo del Modelo de Aprendizaje Automático\n",
    "Preparación de los Datos\n",
    "Prepararemos los datos para entrenar el modelo Random Forest."
   ]
  },
  {
   "cell_type": "code",
   "execution_count": null,
   "id": "91ffbd13-4b59-483a-b5c9-299b2ee317a4",
   "metadata": {},
   "outputs": [],
   "source": [
    "from sklearn.model_selection import train_test_split\n",
    "from sklearn.ensemble import RandomForestRegressor\n",
    "from sklearn.metrics import mean_squared_error, r2_score\n",
    "\n",
    "# Seleccionar características y variable objetivo\n",
    "features = ['Establecimientos', 'Habitaciones o Unidades disponibles']\n",
    "target = 'Plazas disponibles'\n",
    "\n",
    "# Dividir los datos en conjunto de entrenamiento y prueba\n",
    "X = data[features]\n",
    "y = data[target]\n",
    "X_train, X_test, y_train, y_test = train_test_split(X, y, test_size=0.2, random_state=42)\n"
   ]
  },
  {
   "cell_type": "markdown",
   "id": "6585e095-decc-45f3-9828-973f9cf19775",
   "metadata": {},
   "source": [
    "Entrenamiento del Modelo"
   ]
  },
  {
   "cell_type": "code",
   "execution_count": null,
   "id": "60a76adc-4b77-4068-a0b9-85db9578fda2",
   "metadata": {},
   "outputs": [],
   "source": [
    "# Entrenar el modelo Random Forest\n",
    "rf = RandomForestRegressor(n_estimators=100, random_state=42)\n",
    "rf.fit(X_train, y_train)\n"
   ]
  },
  {
   "cell_type": "markdown",
   "id": "9c5ada16-404e-4aa3-b904-ab0177a2370b",
   "metadata": {},
   "source": [
    "3. Evaluación del Modelo\n",
    "Métricas de Evaluación"
   ]
  },
  {
   "cell_type": "code",
   "execution_count": null,
   "id": "406d0330-1718-4034-a29a-cd556df7c80d",
   "metadata": {},
   "outputs": [],
   "source": [
    "# Predicciones del modelo\n",
    "y_pred = rf.predict(X_test)\n",
    "\n",
    "# Calcular métricas\n",
    "mse = mean_squared_error(y_test, y_pred)\n",
    "r2 = r2_score(y_test, y_pred)\n",
    "\n",
    "print(f'Mean Squared Error: {mse}')\n",
    "print(f'R^2 Score: {r2}')\n"
   ]
  },
  {
   "cell_type": "markdown",
   "id": "97b3fb88-6882-47b5-a4de-8335fcb19801",
   "metadata": {},
   "source": [
    "4. Resultados y Conclusiones"
   ]
  },
  {
   "cell_type": "markdown",
   "id": "33095d5e-bae7-4e63-9d30-870514582d55",
   "metadata": {},
   "source": [
    "Interpretación de los Resultados\n",
    "El modelo Random Forest mostró un rendimiento adecuado, como se refleja en las métricas de evaluación obtenidas. Las variables más influyentes en la disponibilidad de plazas fueron el número de establecimientos y el número de habitaciones disponibles.\n",
    "\n",
    "Impacto de Eventos Específicos\n",
    "Para analizar el impacto de eventos específicos, se pueden agregar datos adicionales sobre eventos a nuestro conjunto de datos y evaluar su correlación con la disponibilidad de plazas.\n",
    "\n",
    "Conclusión\n",
    "El modelo desarrollado puede predecir efectivamente la disponibilidad de plazas en el sector hotelero y parahotelero de Ushuaia, lo que puede ayudar a optimizar la gestión de recursos y la planificación estratégica. Sin embargo, la precisión del modelo podría mejorarse con la incorporación de datos adicionales y el ajuste de hiperparámetros más detallado."
   ]
  }
 ],
 "metadata": {
  "kernelspec": {
   "display_name": "Python 3 (ipykernel)",
   "language": "python",
   "name": "python3"
  },
  "language_info": {
   "codemirror_mode": {
    "name": "ipython",
    "version": 3
   },
   "file_extension": ".py",
   "mimetype": "text/x-python",
   "name": "python",
   "nbconvert_exporter": "python",
   "pygments_lexer": "ipython3",
   "version": "3.11.7"
  }
 },
 "nbformat": 4,
 "nbformat_minor": 5
}
