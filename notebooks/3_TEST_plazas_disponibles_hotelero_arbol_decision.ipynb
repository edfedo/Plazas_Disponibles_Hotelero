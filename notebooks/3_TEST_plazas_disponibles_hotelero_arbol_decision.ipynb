{
 "cells": [
  {
   "cell_type": "markdown",
   "metadata": {},
   "source": [
    "# Plazas Disponibles Hotelero - arbol_decision"
   ]
  },
  {
   "cell_type": "markdown",
   "metadata": {},
   "source": [
    "Paso 1: Importar las librerías necesarias"
   ]
  },
  {
   "cell_type": "code",
   "execution_count": 5,
   "metadata": {},
   "outputs": [],
   "source": [
    "import pandas as pd\n",
    "import matplotlib.pyplot as plt\n",
    "import seaborn as sns\n",
    "from sklearn.model_selection import train_test_split\n",
    "from sklearn.tree import DecisionTreeClassifier, plot_tree\n",
    "from sklearn.preprocessing import LabelEncoder\n",
    "from sklearn.metrics import classification_report, confusion_matrix"
   ]
  },
  {
   "cell_type": "markdown",
   "metadata": {},
   "source": [
    "Paso 2: Leer los archivos Excel"
   ]
  },
  {
   "cell_type": "code",
   "execution_count": 8,
   "metadata": {},
   "outputs": [
    {
     "name": "stdout",
     "output_type": "stream",
     "text": [
      "     Periodo             Mes Establecimientos Plazas disponibles  \\\n",
      "0       2008           enero               43              96224   \n",
      "1       2008         febrero               44              87580   \n",
      "2       2008           marzo               44              96069   \n",
      "3       2008           abril               43              90570   \n",
      "4       2008            mayo               42              90737   \n",
      "..       ...             ...              ...                ...   \n",
      "187     2023      agosto (*)               33             118885   \n",
      "188     2023  septiembre (*)               33             115050   \n",
      "189     2023      octubre(*)               33             118637   \n",
      "190     2023    noviembre(*)               33             113400   \n",
      "191     2023    diciembre(*)               33             115613   \n",
      "\n",
      "    Habitaciones o Unidades disponibles  \n",
      "0                                 38936  \n",
      "1                                 34945  \n",
      "2                                 38998  \n",
      "3                                 36480  \n",
      "4                                 37386  \n",
      "..                                  ...  \n",
      "187                               48763  \n",
      "188                               47190  \n",
      "189                               48783  \n",
      "190                               46380  \n",
      "191                               48626  \n",
      "\n",
      "[192 rows x 5 columns]\n"
     ]
    }
   ],
   "source": [
    "# Leer los archivos Excel\n",
    "#file_path1 = 'data1.xlsx'\n",
    "#file_path2 = 'data2.xlsx'\n",
    "#df1 = pd.read_excel(file_path1, sheet_name='Sheet1')\n",
    "#df2 = pd.read_excel(file_path2, sheet_name='Sheet1')\n",
    "datos1 = pd.read_excel(\"../data/external/LIMPIO_16_3_02_Oferta_Hotelera_por-sector_LIMPIO.xlsx\", sheet_name=\"Ushuaia_1\", skipfooter=2)\n",
    "datos2 = pd.read_excel(\"../data/external/LIMPIO_16_3_02_Oferta_Hotelera_por-sector_LIMPIO.xlsx\", sheet_name=\"Ushuaia_2\", skipfooter=2)\n",
    "print(datos1)"
   ]
  },
  {
   "cell_type": "code",
   "execution_count": 10,
   "metadata": {},
   "outputs": [
    {
     "name": "stdout",
     "output_type": "stream",
     "text": [
      "     Periodo             Mes Establecimientos Plazas disponibles  \\\n",
      "0       2008           enero              104              70649   \n",
      "1       2008         febrero              103              64467   \n",
      "2       2008           marzo              103              68359   \n",
      "3       2008           abril               94              57410   \n",
      "4       2008            mayo               77              43314   \n",
      "..       ...             ...              ...                ...   \n",
      "187     2023      agosto (*)               37              33635   \n",
      "188     2023  septiembre (*)               37              34620   \n",
      "189     2023      octubre(*)               43              37975   \n",
      "190     2023    noviembre(*)               42              35970   \n",
      "191     2023    diciembre(*)               42              39742   \n",
      "\n",
      "    Habitaciones o Unidades disponibles  \n",
      "0                                 21452  \n",
      "1                                 19372  \n",
      "2                                 20864  \n",
      "3                                 17750  \n",
      "4                                 13488  \n",
      "..                                  ...  \n",
      "187                                7936  \n",
      "188                                8070  \n",
      "189                                9052  \n",
      "190                                7890  \n",
      "191                               10385  \n",
      "\n",
      "[192 rows x 5 columns]\n"
     ]
    }
   ],
   "source": [
    "print(datos2)"
   ]
  },
  {
   "cell_type": "markdown",
   "metadata": {},
   "source": [
    "Paso 3: Combinar los DataFrames"
   ]
  },
  {
   "cell_type": "code",
   "execution_count": 13,
   "metadata": {},
   "outputs": [
    {
     "name": "stdout",
     "output_type": "stream",
     "text": [
      "     Periodo             Mes Establecimientos Plazas disponibles  \\\n",
      "0       2008           enero               43              96224   \n",
      "1       2008         febrero               44              87580   \n",
      "2       2008           marzo               44              96069   \n",
      "3       2008           abril               43              90570   \n",
      "4       2008            mayo               42              90737   \n",
      "..       ...             ...              ...                ...   \n",
      "379     2023      agosto (*)               37              33635   \n",
      "380     2023  septiembre (*)               37              34620   \n",
      "381     2023      octubre(*)               43              37975   \n",
      "382     2023    noviembre(*)               42              35970   \n",
      "383     2023    diciembre(*)               42              39742   \n",
      "\n",
      "    Habitaciones o Unidades disponibles  \n",
      "0                                 38936  \n",
      "1                                 34945  \n",
      "2                                 38998  \n",
      "3                                 36480  \n",
      "4                                 37386  \n",
      "..                                  ...  \n",
      "379                                7936  \n",
      "380                                8070  \n",
      "381                                9052  \n",
      "382                                7890  \n",
      "383                               10385  \n",
      "\n",
      "[384 rows x 5 columns]\n"
     ]
    }
   ],
   "source": [
    "# Combinar los DataFrames\n",
    "df = pd.concat([datos1, datos2], ignore_index=True)\n",
    "print(df)"
   ]
  },
  {
   "cell_type": "markdown",
   "metadata": {},
   "source": [
    "Paso 4: Preprocesar los datos\n",
    "Convertir columnas a tipo numérico\n"
   ]
  },
  {
   "cell_type": "code",
   "execution_count": 16,
   "metadata": {},
   "outputs": [
    {
     "name": "stdout",
     "output_type": "stream",
     "text": [
      "     Periodo             Mes Establecimientos  Plazas disponibles  \\\n",
      "0       2008           enero               43             96224.0   \n",
      "1       2008         febrero               44             87580.0   \n",
      "2       2008           marzo               44             96069.0   \n",
      "3       2008           abril               43             90570.0   \n",
      "4       2008            mayo               42             90737.0   \n",
      "..       ...             ...              ...                 ...   \n",
      "379     2023      agosto (*)               37             33635.0   \n",
      "380     2023  septiembre (*)               37             34620.0   \n",
      "381     2023      octubre(*)               43             37975.0   \n",
      "382     2023    noviembre(*)               42             35970.0   \n",
      "383     2023    diciembre(*)               42             39742.0   \n",
      "\n",
      "     Habitaciones o Unidades disponibles  \n",
      "0                                38936.0  \n",
      "1                                34945.0  \n",
      "2                                38998.0  \n",
      "3                                36480.0  \n",
      "4                                37386.0  \n",
      "..                                   ...  \n",
      "379                               7936.0  \n",
      "380                               8070.0  \n",
      "381                               9052.0  \n",
      "382                               7890.0  \n",
      "383                              10385.0  \n",
      "\n",
      "[370 rows x 5 columns]\n"
     ]
    }
   ],
   "source": [
    "df['Plazas disponibles'] = pd.to_numeric(df['Plazas disponibles'], errors='coerce')\n",
    "df['Habitaciones o Unidades disponibles'] = pd.to_numeric(df['Habitaciones o Unidades disponibles'], errors='coerce')\n",
    "df.dropna(inplace=True)\n",
    "print(df)\n",
    "\n"
   ]
  },
  {
   "cell_type": "markdown",
   "metadata": {},
   "source": [
    "Convertir la columna de mes a un formato adecuado"
   ]
  },
  {
   "cell_type": "code",
   "execution_count": 19,
   "metadata": {},
   "outputs": [
    {
     "name": "stdout",
     "output_type": "stream",
     "text": [
      "     Periodo             Mes Establecimientos  Plazas disponibles  \\\n",
      "0       2008           enero               43             96224.0   \n",
      "1       2008         febrero               44             87580.0   \n",
      "2       2008           marzo               44             96069.0   \n",
      "3       2008           abril               43             90570.0   \n",
      "4       2008            mayo               42             90737.0   \n",
      "..       ...             ...              ...                 ...   \n",
      "379     2023      agosto (*)               37             33635.0   \n",
      "380     2023  septiembre (*)               37             34620.0   \n",
      "381     2023      octubre(*)               43             37975.0   \n",
      "382     2023    noviembre(*)               42             35970.0   \n",
      "383     2023    diciembre(*)               42             39742.0   \n",
      "\n",
      "     Habitaciones o Unidades disponibles  Mes_num  \n",
      "0                                38936.0      NaN  \n",
      "1                                34945.0      NaN  \n",
      "2                                38998.0      NaN  \n",
      "3                                36480.0      NaN  \n",
      "4                                37386.0      NaN  \n",
      "..                                   ...      ...  \n",
      "379                               7936.0      NaN  \n",
      "380                               8070.0      NaN  \n",
      "381                               9052.0      NaN  \n",
      "382                               7890.0      NaN  \n",
      "383                              10385.0      NaN  \n",
      "\n",
      "[370 rows x 6 columns]\n"
     ]
    }
   ],
   "source": [
    "#Crear un diccionario para convertir los nombres de los meses a números\n",
    "month_map = {\n",
    "    'Enero': 1, 'Febrero': 2, 'Marzo': 3, 'Abril': 4, 'Mayo': 5, 'Junio': 6,\n",
    "    'Julio': 7, 'Agosto': 8, 'Septiembre': 9, 'Octubre': 10, 'Noviembre': 11, 'Diciembre': 12\n",
    "}\n",
    "df['Mes_num'] = df['Mes'].map(month_map)\n",
    "print(df)"
   ]
  },
  {
   "cell_type": "markdown",
   "metadata": {},
   "source": [
    "Codificar variables categóricas"
   ]
  },
  {
   "cell_type": "code",
   "execution_count": 22,
   "metadata": {},
   "outputs": [],
   "source": [
    "label_encoders = {}\n",
    "for column in ['Mes', 'Establecimientos']:\n",
    "    le = LabelEncoder()\n",
    "    df[column] = le.fit_transform(df[column])\n",
    "    label_encoders[column] = le\n"
   ]
  },
  {
   "cell_type": "code",
   "execution_count": 24,
   "metadata": {},
   "outputs": [],
   "source": [
    "# Eliminar filas con valores nulos\n",
    "df.dropna(inplace=True)"
   ]
  },
  {
   "cell_type": "code",
   "execution_count": 26,
   "metadata": {},
   "outputs": [
    {
     "name": "stdout",
     "output_type": "stream",
     "text": [
      "Periodo                                0.0\n",
      "Mes                                    0.0\n",
      "Establecimientos                       0.0\n",
      "Plazas disponibles                     0.0\n",
      "Habitaciones o Unidades disponibles    0.0\n",
      "Mes_num                                0.0\n",
      "dtype: float64\n"
     ]
    }
   ],
   "source": [
    "# Verificar que no hay valores nulos en el conjunto de datos\n",
    "print(df.isnull().sum())"
   ]
  },
  {
   "cell_type": "markdown",
   "metadata": {},
   "source": [
    "Paso 5: Definir las variables independientes y dependientes"
   ]
  },
  {
   "cell_type": "code",
   "execution_count": 29,
   "metadata": {},
   "outputs": [],
   "source": [
    "X = df[['Mes_num', 'Establecimientos', 'Habitaciones o Unidades disponibles']]\n",
    "y = df['Plazas disponibles']"
   ]
  },
  {
   "cell_type": "markdown",
   "metadata": {},
   "source": [
    "Binarizar la variable dependiente"
   ]
  },
  {
   "cell_type": "code",
   "execution_count": 32,
   "metadata": {},
   "outputs": [],
   "source": [
    "y = (y > y.median()).astype(int)\n"
   ]
  },
  {
   "cell_type": "code",
   "execution_count": 34,
   "metadata": {},
   "outputs": [
    {
     "name": "stdout",
     "output_type": "stream",
     "text": [
      "Series([], Name: Plazas disponibles, dtype: int64)\n"
     ]
    }
   ],
   "source": [
    "# Verificar si hay suficientes muestras para cada clase después de binarizar\n",
    "print(y.value_counts())"
   ]
  },
  {
   "cell_type": "code",
   "execution_count": 36,
   "metadata": {},
   "outputs": [
    {
     "ename": "ValueError",
     "evalue": "No hay suficientes datos para dividir en conjuntos de entrenamiento y prueba.",
     "output_type": "error",
     "traceback": [
      "\u001b[1;31m---------------------------------------------------------------------------\u001b[0m",
      "\u001b[1;31mValueError\u001b[0m                                Traceback (most recent call last)",
      "Cell \u001b[1;32mIn[36], line 3\u001b[0m\n\u001b[0;32m      1\u001b[0m \u001b[38;5;66;03m# Verificar si hay suficientes datos para dividir en conjuntos de entrenamiento y prueba\u001b[39;00m\n\u001b[0;32m      2\u001b[0m \u001b[38;5;28;01mif\u001b[39;00m \u001b[38;5;28mlen\u001b[39m(X) \u001b[38;5;241m<\u001b[39m \u001b[38;5;241m2\u001b[39m \u001b[38;5;129;01mor\u001b[39;00m \u001b[38;5;28mlen\u001b[39m(X) \u001b[38;5;241m<\u001b[39m \u001b[38;5;241m2\u001b[39m:\n\u001b[1;32m----> 3\u001b[0m     \u001b[38;5;28;01mraise\u001b[39;00m \u001b[38;5;167;01mValueError\u001b[39;00m(\u001b[38;5;124m\"\u001b[39m\u001b[38;5;124mNo hay suficientes datos para dividir en conjuntos de entrenamiento y prueba.\u001b[39m\u001b[38;5;124m\"\u001b[39m)\n",
      "\u001b[1;31mValueError\u001b[0m: No hay suficientes datos para dividir en conjuntos de entrenamiento y prueba."
     ]
    }
   ],
   "source": [
    "# Verificar si hay suficientes datos para dividir en conjuntos de entrenamiento y prueba\n",
    "if len(X) < 2 or len(X) < 2:\n",
    "    raise ValueError(\"No hay suficientes datos para dividir en conjuntos de entrenamiento y prueba.\")"
   ]
  },
  {
   "cell_type": "markdown",
   "metadata": {},
   "source": [
    "Paso 6: Dividir los datos en conjunto de entrenamiento y prueba"
   ]
  },
  {
   "cell_type": "code",
   "execution_count": null,
   "metadata": {},
   "outputs": [],
   "source": [
    "X_train, X_test, y_train, y_test = train_test_split(X, y, test_size=0.2, random_state=42)\n",
    "\n"
   ]
  },
  {
   "cell_type": "markdown",
   "metadata": {},
   "source": [
    "Paso 7: Entrenar el modelo de árbol de decisión"
   ]
  },
  {
   "cell_type": "code",
   "execution_count": null,
   "metadata": {},
   "outputs": [],
   "source": [
    "model = DecisionTreeClassifier(random_state=42)\n",
    "model.fit(X_train, y_train)\n"
   ]
  },
  {
   "cell_type": "markdown",
   "metadata": {},
   "source": [
    "Paso 8: Evaluar el modelo"
   ]
  },
  {
   "cell_type": "code",
   "execution_count": null,
   "metadata": {},
   "outputs": [],
   "source": [
    "y_pred = model.predict(X_test)\n",
    "print(confusion_matrix(y_test, y_pred))\n",
    "print(classification_report(y_test, y_pred))\n"
   ]
  },
  {
   "cell_type": "markdown",
   "metadata": {},
   "source": [
    "Paso 9: Visualizar el árbol de decisión"
   ]
  },
  {
   "cell_type": "code",
   "execution_count": null,
   "metadata": {},
   "outputs": [],
   "source": [
    "plt.figure(figsize=(20,10))\n",
    "plot_tree(model, feature_names=X.columns, class_names=['Bajo', 'Alto'], filled=True)\n",
    "plt.title('Árbol de decisión para la oferta de plazas disponibles en Ushuaia')\n",
    "plt.show()\n"
   ]
  }
 ],
 "metadata": {
  "kernelspec": {
   "display_name": "Python 3 (ipykernel)",
   "language": "python",
   "name": "python3"
  },
  "language_info": {
   "codemirror_mode": {
    "name": "ipython",
    "version": 3
   },
   "file_extension": ".py",
   "mimetype": "text/x-python",
   "name": "python",
   "nbconvert_exporter": "python",
   "pygments_lexer": "ipython3",
   "version": "3.11.7"
  }
 },
 "nbformat": 4,
 "nbformat_minor": 4
}
