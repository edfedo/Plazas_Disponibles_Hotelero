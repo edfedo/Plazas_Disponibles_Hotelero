{
 "cells": [
  {
   "cell_type": "markdown",
   "metadata": {},
   "source": [
    "# Plazas Disponibles Hotelero"
   ]
  },
  {
   "cell_type": "markdown",
   "metadata": {},
   "source": [
    "**Importacion de las librerias necesarias**"
   ]
  },
  {
   "cell_type": "code",
   "execution_count": 16,
   "metadata": {},
   "outputs": [],
   "source": [
    "import pandas as pd\n",
    "from sklearn.model_selection import train_test_split\n",
    "from sklearn.linear_model import LogisticRegression\n",
    "from sklearn.preprocessing import LabelEncoder\n",
    "from sklearn.metrics import classification_report, confusion_matrix\n"
   ]
  },
  {
   "cell_type": "markdown",
   "metadata": {},
   "source": [
    "**Lectura de datos de Analisis en bruto sheet1 y sheet2**"
   ]
  },
  {
   "cell_type": "code",
   "execution_count": 18,
   "metadata": {
    "scrolled": true
   },
   "outputs": [
    {
     "name": "stdout",
     "output_type": "stream",
     "text": [
      "     Periodo             Mes Establecimientos Plazas disponibles  \\\n",
      "0     2008.0           enero               43              96224   \n",
      "1        NaN         febrero               44              87580   \n",
      "2        NaN           marzo               44              96069   \n",
      "3        NaN           abril               43              90570   \n",
      "4        NaN            mayo               42              90737   \n",
      "..       ...             ...              ...                ...   \n",
      "187      NaN      agosto (*)               33             118885   \n",
      "188      NaN  septiembre (*)               33             115050   \n",
      "189      NaN      octubre(*)               33             118637   \n",
      "190      NaN    noviembre(*)               33             113400   \n",
      "191      NaN    diciembre(*)               33             115613   \n",
      "\n",
      "    Habitaciones o Unidades disponibles  \n",
      "0                                 38936  \n",
      "1                                 34945  \n",
      "2                                 38998  \n",
      "3                                 36480  \n",
      "4                                 37386  \n",
      "..                                  ...  \n",
      "187                               48763  \n",
      "188                               47190  \n",
      "189                               48783  \n",
      "190                               46380  \n",
      "191                               48626  \n",
      "\n",
      "[192 rows x 5 columns]\n"
     ]
    }
   ],
   "source": [
    "# Leer los archivos Excel\n",
    "#file_path1 = 'data1.xlsx'\n",
    "#file_path2 = 'data2.xlsx'\n",
    "#df1 = pd.read_excel(file_path1, sheet_name='Sheet1')\n",
    "#df2 = pd.read_excel(file_path2, sheet_name='Sheet1')\n",
    "datos1 = pd.read_excel(\"../data/external/LIMPIO_16_3_02_Oferta_Hotelera_por-sector_LIMPIO.xlsx\", sheet_name=\"Ushuaia_1\", skipfooter=2)\n",
    "datos2 = pd.read_excel(\"../data/external/LIMPIO_16_3_02_Oferta_Hotelera_por-sector_LIMPIO.xlsx\", sheet_name=\"Ushuaia_2\", skipfooter=2)\n",
    "print(datos1)"
   ]
  },
  {
   "cell_type": "code",
   "execution_count": 19,
   "metadata": {},
   "outputs": [
    {
     "name": "stdout",
     "output_type": "stream",
     "text": [
      "     Periodo             Mes Establecimientos Plazas disponibles  \\\n",
      "0     2008.0           enero              104              70649   \n",
      "1        NaN         febrero              103              64467   \n",
      "2        NaN           marzo              103              68359   \n",
      "3        NaN           abril               94              57410   \n",
      "4        NaN            mayo               77              43314   \n",
      "..       ...             ...              ...                ...   \n",
      "187      NaN      agosto (*)               37              33635   \n",
      "188      NaN  septiembre (*)               37              34620   \n",
      "189      NaN      octubre(*)               43              37975   \n",
      "190      NaN    noviembre(*)               42              35970   \n",
      "191      NaN    diciembre(*)               42              39742   \n",
      "\n",
      "    Habitaciones o Unidades disponibles  \n",
      "0                                 21452  \n",
      "1                                 19372  \n",
      "2                                 20864  \n",
      "3                                 17750  \n",
      "4                                 13488  \n",
      "..                                  ...  \n",
      "187                                7936  \n",
      "188                                8070  \n",
      "189                                9052  \n",
      "190                                7890  \n",
      "191                               10385  \n",
      "\n",
      "[192 rows x 5 columns]\n"
     ]
    }
   ],
   "source": [
    "print(datos2)"
   ]
  },
  {
   "cell_type": "markdown",
   "metadata": {},
   "source": [
    "**Se unen las tablas sheet1 y sheet2 con datos en bruto**"
   ]
  },
  {
   "cell_type": "code",
   "execution_count": 20,
   "metadata": {},
   "outputs": [
    {
     "name": "stdout",
     "output_type": "stream",
     "text": [
      "     Periodo             Mes Establecimientos Plazas disponibles  \\\n",
      "0     2008.0           enero               43              96224   \n",
      "1        NaN         febrero               44              87580   \n",
      "2        NaN           marzo               44              96069   \n",
      "3        NaN           abril               43              90570   \n",
      "4        NaN            mayo               42              90737   \n",
      "..       ...             ...              ...                ...   \n",
      "187      NaN      agosto (*)               37              33635   \n",
      "188      NaN  septiembre (*)               37              34620   \n",
      "189      NaN      octubre(*)               43              37975   \n",
      "190      NaN    noviembre(*)               42              35970   \n",
      "191      NaN    diciembre(*)               42              39742   \n",
      "\n",
      "    Habitaciones o Unidades disponibles  \n",
      "0                                 38936  \n",
      "1                                 34945  \n",
      "2                                 38998  \n",
      "3                                 36480  \n",
      "4                                 37386  \n",
      "..                                  ...  \n",
      "187                                7936  \n",
      "188                                8070  \n",
      "189                                9052  \n",
      "190                                7890  \n",
      "191                               10385  \n",
      "\n",
      "[384 rows x 5 columns]\n"
     ]
    }
   ],
   "source": [
    "# Combine the data\n",
    "combined_data = pd.concat([datos1, datos2])\n",
    "\n",
    "# Print the combined data\n",
    "print(combined_data)"
   ]
  },
  {
   "cell_type": "code",
   "execution_count": null,
   "metadata": {},
   "outputs": [],
   "source": []
  }
 ],
 "metadata": {
  "kernelspec": {
   "display_name": "Python 3 (ipykernel)",
   "language": "python",
   "name": "python3"
  },
  "language_info": {
   "codemirror_mode": {
    "name": "ipython",
    "version": 3
   },
   "file_extension": ".py",
   "mimetype": "text/x-python",
   "name": "python",
   "nbconvert_exporter": "python",
   "pygments_lexer": "ipython3",
   "version": "3.11.7"
  }
 },
 "nbformat": 4,
 "nbformat_minor": 4
}
