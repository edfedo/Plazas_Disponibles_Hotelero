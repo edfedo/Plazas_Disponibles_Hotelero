{
 "cells": [
  {
   "cell_type": "markdown",
   "metadata": {},
   "source": [
    "# Plazas Disponibles Hotelero - arbol_decision"
   ]
  },
  {
   "cell_type": "markdown",
   "metadata": {},
   "source": [
    "Paso 1: Importar las librerías necesarias"
   ]
  },
  {
   "cell_type": "code",
   "execution_count": 1,
   "metadata": {},
   "outputs": [],
   "source": [
    "import pandas as pd\n",
    "import matplotlib.pyplot as plt\n",
    "import seaborn as sns\n",
    "from sklearn.model_selection import train_test_split\n",
    "from sklearn.tree import DecisionTreeClassifier, plot_tree\n",
    "from sklearn.preprocessing import LabelEncoder\n",
    "from sklearn.metrics import classification_report, confusion_matrix"
   ]
  },
  {
   "cell_type": "markdown",
   "metadata": {},
   "source": [
    "Paso 2: Leer los archivos Excel"
   ]
  },
  {
   "cell_type": "code",
   "execution_count": 2,
   "metadata": {},
   "outputs": [
    {
     "name": "stdout",
     "output_type": "stream",
     "text": [
      "     Periodo             Mes Establecimientos Plazas disponibles  \\\n",
      "0     2008.0           enero               43              96224   \n",
      "1        NaN         febrero               44              87580   \n",
      "2        NaN           marzo               44              96069   \n",
      "3        NaN           abril               43              90570   \n",
      "4        NaN            mayo               42              90737   \n",
      "..       ...             ...              ...                ...   \n",
      "187      NaN      agosto (*)               33             118885   \n",
      "188      NaN  septiembre (*)               33             115050   \n",
      "189      NaN      octubre(*)               33             118637   \n",
      "190      NaN    noviembre(*)               33             113400   \n",
      "191      NaN    diciembre(*)               33             115613   \n",
      "\n",
      "    Habitaciones o Unidades disponibles  \n",
      "0                                 38936  \n",
      "1                                 34945  \n",
      "2                                 38998  \n",
      "3                                 36480  \n",
      "4                                 37386  \n",
      "..                                  ...  \n",
      "187                               48763  \n",
      "188                               47190  \n",
      "189                               48783  \n",
      "190                               46380  \n",
      "191                               48626  \n",
      "\n",
      "[192 rows x 5 columns]\n"
     ]
    }
   ],
   "source": [
    "# Leer los archivos Excel\n",
    "#file_path1 = 'data1.xlsx'\n",
    "#file_path2 = 'data2.xlsx'\n",
    "#df1 = pd.read_excel(file_path1, sheet_name='Sheet1')\n",
    "#df2 = pd.read_excel(file_path2, sheet_name='Sheet1')\n",
    "datos1 = pd.read_excel(\"../data/external/LIMPIO_16_3_02_Oferta_Hotelera_por-sector_LIMPIO.xlsx\", sheet_name=\"Ushuaia_1\", skipfooter=2)\n",
    "datos2 = pd.read_excel(\"../data/external/LIMPIO_16_3_02_Oferta_Hotelera_por-sector_LIMPIO.xlsx\", sheet_name=\"Ushuaia_2\", skipfooter=2)\n",
    "print(datos1)"
   ]
  },
  {
   "cell_type": "code",
   "execution_count": 3,
   "metadata": {},
   "outputs": [
    {
     "name": "stdout",
     "output_type": "stream",
     "text": [
      "     Periodo             Mes Establecimientos Plazas disponibles  \\\n",
      "0     2008.0           enero              104              70649   \n",
      "1        NaN         febrero              103              64467   \n",
      "2        NaN           marzo              103              68359   \n",
      "3        NaN           abril               94              57410   \n",
      "4        NaN            mayo               77              43314   \n",
      "..       ...             ...              ...                ...   \n",
      "187      NaN      agosto (*)               37              33635   \n",
      "188      NaN  septiembre (*)               37              34620   \n",
      "189      NaN      octubre(*)               43              37975   \n",
      "190      NaN    noviembre(*)               42              35970   \n",
      "191      NaN    diciembre(*)               42              39742   \n",
      "\n",
      "    Habitaciones o Unidades disponibles  \n",
      "0                                 21452  \n",
      "1                                 19372  \n",
      "2                                 20864  \n",
      "3                                 17750  \n",
      "4                                 13488  \n",
      "..                                  ...  \n",
      "187                                7936  \n",
      "188                                8070  \n",
      "189                                9052  \n",
      "190                                7890  \n",
      "191                               10385  \n",
      "\n",
      "[192 rows x 5 columns]\n"
     ]
    }
   ],
   "source": [
    "print(datos2)"
   ]
  },
  {
   "cell_type": "markdown",
   "metadata": {},
   "source": [
    "Paso 3: Combinar los DataFrames"
   ]
  },
  {
   "cell_type": "code",
   "execution_count": 4,
   "metadata": {},
   "outputs": [
    {
     "name": "stdout",
     "output_type": "stream",
     "text": [
      "     Periodo             Mes Establecimientos Plazas disponibles  \\\n",
      "0     2008.0           enero               43              96224   \n",
      "1        NaN         febrero               44              87580   \n",
      "2        NaN           marzo               44              96069   \n",
      "3        NaN           abril               43              90570   \n",
      "4        NaN            mayo               42              90737   \n",
      "..       ...             ...              ...                ...   \n",
      "379      NaN      agosto (*)               37              33635   \n",
      "380      NaN  septiembre (*)               37              34620   \n",
      "381      NaN      octubre(*)               43              37975   \n",
      "382      NaN    noviembre(*)               42              35970   \n",
      "383      NaN    diciembre(*)               42              39742   \n",
      "\n",
      "    Habitaciones o Unidades disponibles  \n",
      "0                                 38936  \n",
      "1                                 34945  \n",
      "2                                 38998  \n",
      "3                                 36480  \n",
      "4                                 37386  \n",
      "..                                  ...  \n",
      "379                                7936  \n",
      "380                                8070  \n",
      "381                                9052  \n",
      "382                                7890  \n",
      "383                               10385  \n",
      "\n",
      "[384 rows x 5 columns]\n"
     ]
    }
   ],
   "source": [
    "# Combinar los DataFrames\n",
    "df = pd.concat([datos1, datos2], ignore_index=True)\n",
    "print(df)"
   ]
  },
  {
   "cell_type": "markdown",
   "metadata": {},
   "source": [
    "Paso 4: Preprocesar los datos\n",
    "Convertir columnas a tipo numérico\n"
   ]
  },
  {
   "cell_type": "code",
   "execution_count": 5,
   "metadata": {},
   "outputs": [
    {
     "name": "stdout",
     "output_type": "stream",
     "text": [
      "     Periodo    Mes Establecimientos  Plazas disponibles  \\\n",
      "0     2008.0  enero               43             96224.0   \n",
      "12    2009.0  enero               43             94364.0   \n",
      "24    2010.0  enero               46            103199.0   \n",
      "36    2011.0  enero               46            105927.0   \n",
      "48    2012.0  enero               42            102796.0   \n",
      "60    2013.0  enero               40             97526.0   \n",
      "72    2014.0  enero               38             90117.0   \n",
      "84    2015.0  enero               39            102548.0   \n",
      "96    2016.0  enero               38            111042.0   \n",
      "108   2017.0  enero               38            109058.0   \n",
      "120   2018.0  enero               37            106485.0   \n",
      "132   2019.0  enero               37            107260.0   \n",
      "144   2020.0  enero               36            107880.0   \n",
      "156   2021.0  enero               27             77260.0   \n",
      "168   2022.0  enero               34            107012.0   \n",
      "180   2023.0  enero               35            123938.0   \n",
      "192   2008.0  enero              104             70649.0   \n",
      "204   2009.0  enero              104             67258.0   \n",
      "216   2010.0  enero              100             64914.0   \n",
      "228   2011.0  enero               70             57939.0   \n",
      "240   2012.0  enero               67             56730.0   \n",
      "252   2013.0  enero               77             58807.0   \n",
      "264   2014.0  enero               73             51832.0   \n",
      "276   2015.0  enero               72             52421.0   \n",
      "288   2016.0  enero               70             54064.0   \n",
      "300   2017.0  enero               68             54467.0   \n",
      "312   2018.0  enero               64             51088.0   \n",
      "324   2019.0  enero               62             50679.0   \n",
      "336   2020.0  enero               57             43555.0   \n",
      "348   2021.0  enero               42             31203.0   \n",
      "360   2022.0  enero               44             36317.0   \n",
      "372   2023.0  enero               45             38471.0   \n",
      "\n",
      "     Habitaciones o Unidades disponibles  \n",
      "0                                38936.0  \n",
      "12                               39060.0  \n",
      "24                               42656.0  \n",
      "36                               41881.0  \n",
      "48                               41509.0  \n",
      "60                               39618.0  \n",
      "72                               36425.0  \n",
      "84                               40393.0  \n",
      "96                               42842.0  \n",
      "108                              42129.0  \n",
      "120                              41943.0  \n",
      "132                              42687.0  \n",
      "144                              43276.0  \n",
      "156                              31275.0  \n",
      "168                              43276.0  \n",
      "180                              49786.0  \n",
      "192                              21452.0  \n",
      "204                              19674.0  \n",
      "216                              16027.0  \n",
      "228                              12679.0  \n",
      "240                              10664.0  \n",
      "252                              14012.0  \n",
      "264                              13082.0  \n",
      "276                              12586.0  \n",
      "288                              13020.0  \n",
      "300                              13268.0  \n",
      "312                              12369.0  \n",
      "324                              12211.0  \n",
      "336                              11997.0  \n",
      "348                               7823.0  \n",
      "360                               9022.0  \n",
      "372                               9858.0  \n"
     ]
    }
   ],
   "source": [
    "df['Plazas disponibles'] = pd.to_numeric(df['Plazas disponibles'], errors='coerce')\n",
    "df['Habitaciones o Unidades disponibles'] = pd.to_numeric(df['Habitaciones o Unidades disponibles'], errors='coerce')\n",
    "df.dropna(inplace=True)\n",
    "print(df)\n",
    "\n"
   ]
  },
  {
   "cell_type": "markdown",
   "metadata": {},
   "source": [
    "Convertir la columna de mes a un formato adecuado"
   ]
  },
  {
   "cell_type": "code",
   "execution_count": 6,
   "metadata": {},
   "outputs": [
    {
     "name": "stdout",
     "output_type": "stream",
     "text": [
      "     Periodo    Mes Establecimientos  Plazas disponibles  \\\n",
      "0     2008.0  enero               43             96224.0   \n",
      "12    2009.0  enero               43             94364.0   \n",
      "24    2010.0  enero               46            103199.0   \n",
      "36    2011.0  enero               46            105927.0   \n",
      "48    2012.0  enero               42            102796.0   \n",
      "60    2013.0  enero               40             97526.0   \n",
      "72    2014.0  enero               38             90117.0   \n",
      "84    2015.0  enero               39            102548.0   \n",
      "96    2016.0  enero               38            111042.0   \n",
      "108   2017.0  enero               38            109058.0   \n",
      "120   2018.0  enero               37            106485.0   \n",
      "132   2019.0  enero               37            107260.0   \n",
      "144   2020.0  enero               36            107880.0   \n",
      "156   2021.0  enero               27             77260.0   \n",
      "168   2022.0  enero               34            107012.0   \n",
      "180   2023.0  enero               35            123938.0   \n",
      "192   2008.0  enero              104             70649.0   \n",
      "204   2009.0  enero              104             67258.0   \n",
      "216   2010.0  enero              100             64914.0   \n",
      "228   2011.0  enero               70             57939.0   \n",
      "240   2012.0  enero               67             56730.0   \n",
      "252   2013.0  enero               77             58807.0   \n",
      "264   2014.0  enero               73             51832.0   \n",
      "276   2015.0  enero               72             52421.0   \n",
      "288   2016.0  enero               70             54064.0   \n",
      "300   2017.0  enero               68             54467.0   \n",
      "312   2018.0  enero               64             51088.0   \n",
      "324   2019.0  enero               62             50679.0   \n",
      "336   2020.0  enero               57             43555.0   \n",
      "348   2021.0  enero               42             31203.0   \n",
      "360   2022.0  enero               44             36317.0   \n",
      "372   2023.0  enero               45             38471.0   \n",
      "\n",
      "     Habitaciones o Unidades disponibles  Mes_num  \n",
      "0                                38936.0      NaN  \n",
      "12                               39060.0      NaN  \n",
      "24                               42656.0      NaN  \n",
      "36                               41881.0      NaN  \n",
      "48                               41509.0      NaN  \n",
      "60                               39618.0      NaN  \n",
      "72                               36425.0      NaN  \n",
      "84                               40393.0      NaN  \n",
      "96                               42842.0      NaN  \n",
      "108                              42129.0      NaN  \n",
      "120                              41943.0      NaN  \n",
      "132                              42687.0      NaN  \n",
      "144                              43276.0      NaN  \n",
      "156                              31275.0      NaN  \n",
      "168                              43276.0      NaN  \n",
      "180                              49786.0      NaN  \n",
      "192                              21452.0      NaN  \n",
      "204                              19674.0      NaN  \n",
      "216                              16027.0      NaN  \n",
      "228                              12679.0      NaN  \n",
      "240                              10664.0      NaN  \n",
      "252                              14012.0      NaN  \n",
      "264                              13082.0      NaN  \n",
      "276                              12586.0      NaN  \n",
      "288                              13020.0      NaN  \n",
      "300                              13268.0      NaN  \n",
      "312                              12369.0      NaN  \n",
      "324                              12211.0      NaN  \n",
      "336                              11997.0      NaN  \n",
      "348                               7823.0      NaN  \n",
      "360                               9022.0      NaN  \n",
      "372                               9858.0      NaN  \n"
     ]
    }
   ],
   "source": [
    "#Crear un diccionario para convertir los nombres de los meses a números\n",
    "month_map = {\n",
    "    'Enero': 1, 'Febrero': 2, 'Marzo': 3, 'Abril': 4, 'Mayo': 5, 'Junio': 6,\n",
    "    'Julio': 7, 'Agosto': 8, 'Septiembre': 9, 'Octubre': 10, 'Noviembre': 11, 'Diciembre': 12\n",
    "}\n",
    "df['Mes_num'] = df['Mes'].map(month_map)\n",
    "print(df)"
   ]
  },
  {
   "cell_type": "markdown",
   "metadata": {},
   "source": [
    "Codificar variables categóricas"
   ]
  },
  {
   "cell_type": "code",
   "execution_count": 7,
   "metadata": {},
   "outputs": [],
   "source": [
    "label_encoders = {}\n",
    "for column in ['Mes', 'Establecimientos']:\n",
    "    le = LabelEncoder()\n",
    "    df[column] = le.fit_transform(df[column])\n",
    "    label_encoders[column] = le\n"
   ]
  },
  {
   "cell_type": "code",
   "execution_count": 8,
   "metadata": {},
   "outputs": [],
   "source": [
    "# Eliminar filas con valores nulos\n",
    "df.dropna(inplace=True)"
   ]
  },
  {
   "cell_type": "code",
   "execution_count": 9,
   "metadata": {},
   "outputs": [
    {
     "name": "stdout",
     "output_type": "stream",
     "text": [
      "Periodo                                0.0\n",
      "Mes                                    0.0\n",
      "Establecimientos                       0.0\n",
      "Plazas disponibles                     0.0\n",
      "Habitaciones o Unidades disponibles    0.0\n",
      "Mes_num                                0.0\n",
      "dtype: float64\n"
     ]
    }
   ],
   "source": [
    "# Verificar que no hay valores nulos en el conjunto de datos\n",
    "print(df.isnull().sum())"
   ]
  },
  {
   "cell_type": "markdown",
   "metadata": {},
   "source": [
    "Paso 5: Definir las variables independientes y dependientes"
   ]
  },
  {
   "cell_type": "code",
   "execution_count": 10,
   "metadata": {},
   "outputs": [],
   "source": [
    "X = df[['Mes_num', 'Establecimientos', 'Habitaciones o Unidades disponibles']]\n",
    "y = df['Plazas disponibles']"
   ]
  },
  {
   "cell_type": "markdown",
   "metadata": {},
   "source": [
    "Binarizar la variable dependiente"
   ]
  },
  {
   "cell_type": "code",
   "execution_count": 11,
   "metadata": {},
   "outputs": [],
   "source": [
    "y = (y > y.median()).astype(int)\n"
   ]
  },
  {
   "cell_type": "code",
   "execution_count": 12,
   "metadata": {},
   "outputs": [
    {
     "name": "stdout",
     "output_type": "stream",
     "text": [
      "Series([], Name: Plazas disponibles, dtype: int64)\n"
     ]
    }
   ],
   "source": [
    "# Verificar si hay suficientes muestras para cada clase después de binarizar\n",
    "print(y.value_counts())"
   ]
  },
  {
   "cell_type": "code",
   "execution_count": 13,
   "metadata": {},
   "outputs": [
    {
     "ename": "ValueError",
     "evalue": "No hay suficientes datos para dividir en conjuntos de entrenamiento y prueba.",
     "output_type": "error",
     "traceback": [
      "\u001b[1;31m---------------------------------------------------------------------------\u001b[0m",
      "\u001b[1;31mValueError\u001b[0m                                Traceback (most recent call last)",
      "Cell \u001b[1;32mIn[13], line 3\u001b[0m\n\u001b[0;32m      1\u001b[0m \u001b[38;5;66;03m# Verificar si hay suficientes datos para dividir en conjuntos de entrenamiento y prueba\u001b[39;00m\n\u001b[0;32m      2\u001b[0m \u001b[38;5;28;01mif\u001b[39;00m \u001b[38;5;28mlen\u001b[39m(X) \u001b[38;5;241m<\u001b[39m \u001b[38;5;241m2\u001b[39m \u001b[38;5;129;01mor\u001b[39;00m \u001b[38;5;28mlen\u001b[39m(X) \u001b[38;5;241m<\u001b[39m \u001b[38;5;241m2\u001b[39m:\n\u001b[1;32m----> 3\u001b[0m     \u001b[38;5;28;01mraise\u001b[39;00m \u001b[38;5;167;01mValueError\u001b[39;00m(\u001b[38;5;124m\"\u001b[39m\u001b[38;5;124mNo hay suficientes datos para dividir en conjuntos de entrenamiento y prueba.\u001b[39m\u001b[38;5;124m\"\u001b[39m)\n",
      "\u001b[1;31mValueError\u001b[0m: No hay suficientes datos para dividir en conjuntos de entrenamiento y prueba."
     ]
    }
   ],
   "source": [
    "# Verificar si hay suficientes datos para dividir en conjuntos de entrenamiento y prueba\n",
    "if len(X) < 2 or len(X) < 2:\n",
    "    raise ValueError(\"No hay suficientes datos para dividir en conjuntos de entrenamiento y prueba.\")"
   ]
  },
  {
   "cell_type": "markdown",
   "metadata": {},
   "source": [
    "Paso 6: Dividir los datos en conjunto de entrenamiento y prueba"
   ]
  },
  {
   "cell_type": "code",
   "execution_count": null,
   "metadata": {},
   "outputs": [],
   "source": [
    "X_train, X_test, y_train, y_test = train_test_split(X, y, test_size=0.2, random_state=42)\n",
    "\n"
   ]
  },
  {
   "cell_type": "markdown",
   "metadata": {},
   "source": [
    "Paso 7: Entrenar el modelo de árbol de decisión"
   ]
  },
  {
   "cell_type": "code",
   "execution_count": null,
   "metadata": {},
   "outputs": [],
   "source": [
    "model = DecisionTreeClassifier(random_state=42)\n",
    "model.fit(X_train, y_train)\n"
   ]
  },
  {
   "cell_type": "markdown",
   "metadata": {},
   "source": [
    "Paso 8: Evaluar el modelo"
   ]
  },
  {
   "cell_type": "code",
   "execution_count": null,
   "metadata": {},
   "outputs": [],
   "source": [
    "y_pred = model.predict(X_test)\n",
    "print(confusion_matrix(y_test, y_pred))\n",
    "print(classification_report(y_test, y_pred))\n"
   ]
  },
  {
   "cell_type": "markdown",
   "metadata": {},
   "source": [
    "Paso 9: Visualizar el árbol de decisión"
   ]
  },
  {
   "cell_type": "code",
   "execution_count": null,
   "metadata": {},
   "outputs": [],
   "source": [
    "plt.figure(figsize=(20,10))\n",
    "plot_tree(model, feature_names=X.columns, class_names=['Bajo', 'Alto'], filled=True)\n",
    "plt.title('Árbol de decisión para la oferta de plazas disponibles en Ushuaia')\n",
    "plt.show()\n"
   ]
  },
  {
   "cell_type": "code",
   "execution_count": null,
   "metadata": {},
   "outputs": [],
   "source": []
  }
 ],
 "metadata": {
  "kernelspec": {
   "display_name": "Python 3 (ipykernel)",
   "language": "python",
   "name": "python3"
  },
  "language_info": {
   "codemirror_mode": {
    "name": "ipython",
    "version": 3
   },
   "file_extension": ".py",
   "mimetype": "text/x-python",
   "name": "python",
   "nbconvert_exporter": "python",
   "pygments_lexer": "ipython3",
   "version": "3.11.7"
  }
 },
 "nbformat": 4,
 "nbformat_minor": 4
}
