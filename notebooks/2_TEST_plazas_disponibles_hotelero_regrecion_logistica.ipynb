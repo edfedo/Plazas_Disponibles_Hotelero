{
 "cells": [
  {
   "cell_type": "markdown",
   "metadata": {},
   "source": [
    "# Plazas Disponibles Hotelero - regrecion_logistica"
   ]
  },
  {
   "cell_type": "markdown",
   "metadata": {},
   "source": [
    "Paso 1: Importar las librerías necesarias"
   ]
  },
  {
   "cell_type": "code",
   "execution_count": 4,
   "metadata": {},
   "outputs": [],
   "source": [
    "import pandas as pd\n",
    "from sklearn.model_selection import train_test_split\n",
    "from sklearn.linear_model import LogisticRegression\n",
    "from sklearn.preprocessing import LabelEncoder\n",
    "from sklearn.metrics import classification_report, confusion_matrix\n"
   ]
  },
  {
   "cell_type": "markdown",
   "metadata": {},
   "source": [
    "Paso 2: Leer los archivos Excel"
   ]
  },
  {
   "cell_type": "code",
   "execution_count": 7,
   "metadata": {},
   "outputs": [
    {
     "name": "stdout",
     "output_type": "stream",
     "text": [
      "     Periodo             Mes Establecimientos Plazas disponibles  \\\n",
      "0       2008           enero               43              96224   \n",
      "1       2008         febrero               44              87580   \n",
      "2       2008           marzo               44              96069   \n",
      "3       2008           abril               43              90570   \n",
      "4       2008            mayo               42              90737   \n",
      "..       ...             ...              ...                ...   \n",
      "187     2023      agosto (*)               33             118885   \n",
      "188     2023  septiembre (*)               33             115050   \n",
      "189     2023      octubre(*)               33             118637   \n",
      "190     2023    noviembre(*)               33             113400   \n",
      "191     2023    diciembre(*)               33             115613   \n",
      "\n",
      "    Habitaciones o Unidades disponibles  \n",
      "0                                 38936  \n",
      "1                                 34945  \n",
      "2                                 38998  \n",
      "3                                 36480  \n",
      "4                                 37386  \n",
      "..                                  ...  \n",
      "187                               48763  \n",
      "188                               47190  \n",
      "189                               48783  \n",
      "190                               46380  \n",
      "191                               48626  \n",
      "\n",
      "[192 rows x 5 columns]\n"
     ]
    }
   ],
   "source": [
    "# Leer los archivos Excel\n",
    "#file_path1 = 'data1.xlsx'\n",
    "#file_path2 = 'data2.xlsx'\n",
    "#df1 = pd.read_excel(file_path1, sheet_name='Sheet1')\n",
    "#df2 = pd.read_excel(file_path2, sheet_name='Sheet1')\n",
    "datos1 = pd.read_excel(\"../data/external/LIMPIO_16_3_02_Oferta_Hotelera_por-sector_LIMPIO.xlsx\", sheet_name=\"Ushuaia_1\", skipfooter=2)\n",
    "datos2 = pd.read_excel(\"../data/external/LIMPIO_16_3_02_Oferta_Hotelera_por-sector_LIMPIO.xlsx\", sheet_name=\"Ushuaia_2\", skipfooter=2)\n",
    "print(datos1)"
   ]
  },
  {
   "cell_type": "code",
   "execution_count": 9,
   "metadata": {},
   "outputs": [
    {
     "name": "stdout",
     "output_type": "stream",
     "text": [
      "     Periodo             Mes Establecimientos Plazas disponibles  \\\n",
      "0       2008           enero              104              70649   \n",
      "1       2008         febrero              103              64467   \n",
      "2       2008           marzo              103              68359   \n",
      "3       2008           abril               94              57410   \n",
      "4       2008            mayo               77              43314   \n",
      "..       ...             ...              ...                ...   \n",
      "187     2023      agosto (*)               37              33635   \n",
      "188     2023  septiembre (*)               37              34620   \n",
      "189     2023      octubre(*)               43              37975   \n",
      "190     2023    noviembre(*)               42              35970   \n",
      "191     2023    diciembre(*)               42              39742   \n",
      "\n",
      "    Habitaciones o Unidades disponibles  \n",
      "0                                 21452  \n",
      "1                                 19372  \n",
      "2                                 20864  \n",
      "3                                 17750  \n",
      "4                                 13488  \n",
      "..                                  ...  \n",
      "187                                7936  \n",
      "188                                8070  \n",
      "189                                9052  \n",
      "190                                7890  \n",
      "191                               10385  \n",
      "\n",
      "[192 rows x 5 columns]\n"
     ]
    }
   ],
   "source": [
    "print(datos2)"
   ]
  },
  {
   "cell_type": "markdown",
   "metadata": {},
   "source": [
    "Paso 3: Combinar los DataFrames\n",
    "Combinamos los dos DataFrames en uno solo. Puedes usar pd.concat para combinar filas de dos DataFrames."
   ]
  },
  {
   "cell_type": "code",
   "execution_count": 12,
   "metadata": {},
   "outputs": [
    {
     "name": "stdout",
     "output_type": "stream",
     "text": [
      "     Periodo             Mes Establecimientos Plazas disponibles  \\\n",
      "0       2008           enero               43              96224   \n",
      "1       2008         febrero               44              87580   \n",
      "2       2008           marzo               44              96069   \n",
      "3       2008           abril               43              90570   \n",
      "4       2008            mayo               42              90737   \n",
      "..       ...             ...              ...                ...   \n",
      "379     2023      agosto (*)               37              33635   \n",
      "380     2023  septiembre (*)               37              34620   \n",
      "381     2023      octubre(*)               43              37975   \n",
      "382     2023    noviembre(*)               42              35970   \n",
      "383     2023    diciembre(*)               42              39742   \n",
      "\n",
      "    Habitaciones o Unidades disponibles  \n",
      "0                                 38936  \n",
      "1                                 34945  \n",
      "2                                 38998  \n",
      "3                                 36480  \n",
      "4                                 37386  \n",
      "..                                  ...  \n",
      "379                                7936  \n",
      "380                                8070  \n",
      "381                                9052  \n",
      "382                                7890  \n",
      "383                               10385  \n",
      "\n",
      "[384 rows x 5 columns]\n"
     ]
    }
   ],
   "source": [
    "# Combinar los DataFrames\n",
    "df = pd.concat([datos1, datos2], ignore_index=True)\n",
    "print(df)"
   ]
  },
  {
   "cell_type": "markdown",
   "metadata": {},
   "source": [
    "Paso 4: Preprocesar los datos\n",
    "Convertir columnas a tipo numérico"
   ]
  },
  {
   "cell_type": "code",
   "execution_count": 15,
   "metadata": {},
   "outputs": [
    {
     "name": "stdout",
     "output_type": "stream",
     "text": [
      "     Periodo             Mes Establecimientos  Plazas disponibles  \\\n",
      "0       2008           enero               43             96224.0   \n",
      "1       2008         febrero               44             87580.0   \n",
      "2       2008           marzo               44             96069.0   \n",
      "3       2008           abril               43             90570.0   \n",
      "4       2008            mayo               42             90737.0   \n",
      "..       ...             ...              ...                 ...   \n",
      "379     2023      agosto (*)               37             33635.0   \n",
      "380     2023  septiembre (*)               37             34620.0   \n",
      "381     2023      octubre(*)               43             37975.0   \n",
      "382     2023    noviembre(*)               42             35970.0   \n",
      "383     2023    diciembre(*)               42             39742.0   \n",
      "\n",
      "     Habitaciones o Unidades disponibles  \n",
      "0                                38936.0  \n",
      "1                                34945.0  \n",
      "2                                38998.0  \n",
      "3                                36480.0  \n",
      "4                                37386.0  \n",
      "..                                   ...  \n",
      "379                               7936.0  \n",
      "380                               8070.0  \n",
      "381                               9052.0  \n",
      "382                               7890.0  \n",
      "383                              10385.0  \n",
      "\n",
      "[384 rows x 5 columns]\n"
     ]
    }
   ],
   "source": [
    "df['Plazas disponibles'] = pd.to_numeric(df['Plazas disponibles'], errors='coerce')\n",
    "df['Habitaciones o Unidades disponibles'] = pd.to_numeric(df['Habitaciones o Unidades disponibles'], errors='coerce')\n",
    "print(df)\n"
   ]
  },
  {
   "cell_type": "markdown",
   "metadata": {},
   "source": [
    "Eliminar filas con valores nulos"
   ]
  },
  {
   "cell_type": "code",
   "execution_count": 18,
   "metadata": {},
   "outputs": [
    {
     "name": "stdout",
     "output_type": "stream",
     "text": [
      "     Periodo             Mes Establecimientos  Plazas disponibles  \\\n",
      "0       2008           enero               43             96224.0   \n",
      "1       2008         febrero               44             87580.0   \n",
      "2       2008           marzo               44             96069.0   \n",
      "3       2008           abril               43             90570.0   \n",
      "4       2008            mayo               42             90737.0   \n",
      "..       ...             ...              ...                 ...   \n",
      "379     2023      agosto (*)               37             33635.0   \n",
      "380     2023  septiembre (*)               37             34620.0   \n",
      "381     2023      octubre(*)               43             37975.0   \n",
      "382     2023    noviembre(*)               42             35970.0   \n",
      "383     2023    diciembre(*)               42             39742.0   \n",
      "\n",
      "     Habitaciones o Unidades disponibles  \n",
      "0                                38936.0  \n",
      "1                                34945.0  \n",
      "2                                38998.0  \n",
      "3                                36480.0  \n",
      "4                                37386.0  \n",
      "..                                   ...  \n",
      "379                               7936.0  \n",
      "380                               8070.0  \n",
      "381                               9052.0  \n",
      "382                               7890.0  \n",
      "383                              10385.0  \n",
      "\n",
      "[370 rows x 5 columns]\n"
     ]
    }
   ],
   "source": [
    "df.dropna(inplace=True)\n",
    "print(df)"
   ]
  },
  {
   "cell_type": "markdown",
   "metadata": {},
   "source": [
    "Codificar variables categóricas"
   ]
  },
  {
   "cell_type": "code",
   "execution_count": 21,
   "metadata": {},
   "outputs": [],
   "source": [
    "label_encoders = {}\n",
    "for column in ['Mes', 'Establecimientos']:\n",
    "    le = LabelEncoder()\n",
    "    df[column] = le.fit_transform(df[column])\n",
    "    label_encoders[column] = le\n",
    "\n"
   ]
  },
  {
   "cell_type": "markdown",
   "metadata": {},
   "source": [
    "Paso 5: Definir las variables independientes y dependientes"
   ]
  },
  {
   "cell_type": "code",
   "execution_count": 24,
   "metadata": {},
   "outputs": [
    {
     "name": "stdout",
     "output_type": "stream",
     "text": [
      "     Mes  Establecimientos  Habitaciones o Unidades disponibles\n",
      "0      5                23                              38936.0\n",
      "1      6                24                              34945.0\n",
      "2     10                24                              38998.0\n",
      "3      0                23                              36480.0\n",
      "4     11                22                              37386.0\n",
      "..   ...               ...                                  ...\n",
      "379    2                17                               7936.0\n",
      "380   17                17                               8070.0\n",
      "381   15                23                               9052.0\n",
      "382   13                22                               7890.0\n",
      "383    4                22                              10385.0\n",
      "\n",
      "[370 rows x 3 columns]\n"
     ]
    }
   ],
   "source": [
    "X = df[['Mes', 'Establecimientos', 'Habitaciones o Unidades disponibles']]\n",
    "y = df['Plazas disponibles']\n",
    "print(X)"
   ]
  },
  {
   "cell_type": "code",
   "execution_count": 26,
   "metadata": {},
   "outputs": [
    {
     "name": "stdout",
     "output_type": "stream",
     "text": [
      "     Mes  Establecimientos  Habitaciones o Unidades disponibles\n",
      "0      5                23                              38936.0\n",
      "1      6                24                              34945.0\n",
      "2     10                24                              38998.0\n",
      "3      0                23                              36480.0\n",
      "4     11                22                              37386.0\n",
      "..   ...               ...                                  ...\n",
      "379    2                17                               7936.0\n",
      "380   17                17                               8070.0\n",
      "381   15                23                               9052.0\n",
      "382   13                22                               7890.0\n",
      "383    4                22                              10385.0\n",
      "\n",
      "[370 rows x 3 columns]\n"
     ]
    }
   ],
   "source": [
    "print(X)"
   ]
  },
  {
   "cell_type": "markdown",
   "metadata": {},
   "source": [
    "Binarizar la variable dependiente"
   ]
  },
  {
   "cell_type": "code",
   "execution_count": 29,
   "metadata": {},
   "outputs": [
    {
     "name": "stdout",
     "output_type": "stream",
     "text": [
      "0      1\n",
      "1      1\n",
      "2      1\n",
      "3      1\n",
      "4      1\n",
      "      ..\n",
      "379    0\n",
      "380    0\n",
      "381    0\n",
      "382    0\n",
      "383    0\n",
      "Name: Plazas disponibles, Length: 370, dtype: int32\n"
     ]
    }
   ],
   "source": [
    "y = (y > y.median()).astype(int)\n",
    "print(y)"
   ]
  },
  {
   "cell_type": "markdown",
   "metadata": {},
   "source": [
    "Paso 6: Dividir los datos en conjunto de entrenamiento y prueba"
   ]
  },
  {
   "cell_type": "code",
   "execution_count": 32,
   "metadata": {},
   "outputs": [],
   "source": [
    "X_train, X_test, y_train, y_test = train_test_split(X, y, test_size=0.2, random_state=42)\n"
   ]
  },
  {
   "cell_type": "markdown",
   "metadata": {},
   "source": [
    "Paso 7: Entrenar el modelo de regresión logística"
   ]
  },
  {
   "cell_type": "code",
   "execution_count": 35,
   "metadata": {},
   "outputs": [
    {
     "data": {
      "text/html": [
       "<style>#sk-container-id-1 {color: black;background-color: white;}#sk-container-id-1 pre{padding: 0;}#sk-container-id-1 div.sk-toggleable {background-color: white;}#sk-container-id-1 label.sk-toggleable__label {cursor: pointer;display: block;width: 100%;margin-bottom: 0;padding: 0.3em;box-sizing: border-box;text-align: center;}#sk-container-id-1 label.sk-toggleable__label-arrow:before {content: \"▸\";float: left;margin-right: 0.25em;color: #696969;}#sk-container-id-1 label.sk-toggleable__label-arrow:hover:before {color: black;}#sk-container-id-1 div.sk-estimator:hover label.sk-toggleable__label-arrow:before {color: black;}#sk-container-id-1 div.sk-toggleable__content {max-height: 0;max-width: 0;overflow: hidden;text-align: left;background-color: #f0f8ff;}#sk-container-id-1 div.sk-toggleable__content pre {margin: 0.2em;color: black;border-radius: 0.25em;background-color: #f0f8ff;}#sk-container-id-1 input.sk-toggleable__control:checked~div.sk-toggleable__content {max-height: 200px;max-width: 100%;overflow: auto;}#sk-container-id-1 input.sk-toggleable__control:checked~label.sk-toggleable__label-arrow:before {content: \"▾\";}#sk-container-id-1 div.sk-estimator input.sk-toggleable__control:checked~label.sk-toggleable__label {background-color: #d4ebff;}#sk-container-id-1 div.sk-label input.sk-toggleable__control:checked~label.sk-toggleable__label {background-color: #d4ebff;}#sk-container-id-1 input.sk-hidden--visually {border: 0;clip: rect(1px 1px 1px 1px);clip: rect(1px, 1px, 1px, 1px);height: 1px;margin: -1px;overflow: hidden;padding: 0;position: absolute;width: 1px;}#sk-container-id-1 div.sk-estimator {font-family: monospace;background-color: #f0f8ff;border: 1px dotted black;border-radius: 0.25em;box-sizing: border-box;margin-bottom: 0.5em;}#sk-container-id-1 div.sk-estimator:hover {background-color: #d4ebff;}#sk-container-id-1 div.sk-parallel-item::after {content: \"\";width: 100%;border-bottom: 1px solid gray;flex-grow: 1;}#sk-container-id-1 div.sk-label:hover label.sk-toggleable__label {background-color: #d4ebff;}#sk-container-id-1 div.sk-serial::before {content: \"\";position: absolute;border-left: 1px solid gray;box-sizing: border-box;top: 0;bottom: 0;left: 50%;z-index: 0;}#sk-container-id-1 div.sk-serial {display: flex;flex-direction: column;align-items: center;background-color: white;padding-right: 0.2em;padding-left: 0.2em;position: relative;}#sk-container-id-1 div.sk-item {position: relative;z-index: 1;}#sk-container-id-1 div.sk-parallel {display: flex;align-items: stretch;justify-content: center;background-color: white;position: relative;}#sk-container-id-1 div.sk-item::before, #sk-container-id-1 div.sk-parallel-item::before {content: \"\";position: absolute;border-left: 1px solid gray;box-sizing: border-box;top: 0;bottom: 0;left: 50%;z-index: -1;}#sk-container-id-1 div.sk-parallel-item {display: flex;flex-direction: column;z-index: 1;position: relative;background-color: white;}#sk-container-id-1 div.sk-parallel-item:first-child::after {align-self: flex-end;width: 50%;}#sk-container-id-1 div.sk-parallel-item:last-child::after {align-self: flex-start;width: 50%;}#sk-container-id-1 div.sk-parallel-item:only-child::after {width: 0;}#sk-container-id-1 div.sk-dashed-wrapped {border: 1px dashed gray;margin: 0 0.4em 0.5em 0.4em;box-sizing: border-box;padding-bottom: 0.4em;background-color: white;}#sk-container-id-1 div.sk-label label {font-family: monospace;font-weight: bold;display: inline-block;line-height: 1.2em;}#sk-container-id-1 div.sk-label-container {text-align: center;}#sk-container-id-1 div.sk-container {/* jupyter's `normalize.less` sets `[hidden] { display: none; }` but bootstrap.min.css set `[hidden] { display: none !important; }` so we also need the `!important` here to be able to override the default hidden behavior on the sphinx rendered scikit-learn.org. See: https://github.com/scikit-learn/scikit-learn/issues/21755 */display: inline-block !important;position: relative;}#sk-container-id-1 div.sk-text-repr-fallback {display: none;}</style><div id=\"sk-container-id-1\" class=\"sk-top-container\"><div class=\"sk-text-repr-fallback\"><pre>LogisticRegression()</pre><b>In a Jupyter environment, please rerun this cell to show the HTML representation or trust the notebook. <br />On GitHub, the HTML representation is unable to render, please try loading this page with nbviewer.org.</b></div><div class=\"sk-container\" hidden><div class=\"sk-item\"><div class=\"sk-estimator sk-toggleable\"><input class=\"sk-toggleable__control sk-hidden--visually\" id=\"sk-estimator-id-1\" type=\"checkbox\" checked><label for=\"sk-estimator-id-1\" class=\"sk-toggleable__label sk-toggleable__label-arrow\">LogisticRegression</label><div class=\"sk-toggleable__content\"><pre>LogisticRegression()</pre></div></div></div></div></div>"
      ],
      "text/plain": [
       "LogisticRegression()"
      ]
     },
     "execution_count": 35,
     "metadata": {},
     "output_type": "execute_result"
    }
   ],
   "source": [
    "model = LogisticRegression()\n",
    "model.fit(X_train, y_train)\n"
   ]
  },
  {
   "cell_type": "markdown",
   "metadata": {},
   "source": [
    "Paso 8: Evaluar el modelo"
   ]
  },
  {
   "cell_type": "code",
   "execution_count": 38,
   "metadata": {},
   "outputs": [
    {
     "name": "stdout",
     "output_type": "stream",
     "text": [
      "[[31  3]\n",
      " [ 0 40]]\n",
      "              precision    recall  f1-score   support\n",
      "\n",
      "           0       1.00      0.91      0.95        34\n",
      "           1       0.93      1.00      0.96        40\n",
      "\n",
      "    accuracy                           0.96        74\n",
      "   macro avg       0.97      0.96      0.96        74\n",
      "weighted avg       0.96      0.96      0.96        74\n",
      "\n"
     ]
    }
   ],
   "source": [
    "y_pred = model.predict(X_test)\n",
    "print(confusion_matrix(y_test, y_pred))\n",
    "print(classification_report(y_test, y_pred))\n"
   ]
  },
  {
   "cell_type": "code",
   "execution_count": null,
   "metadata": {},
   "outputs": [],
   "source": []
  }
 ],
 "metadata": {
  "kernelspec": {
   "display_name": "Python 3 (ipykernel)",
   "language": "python",
   "name": "python3"
  },
  "language_info": {
   "codemirror_mode": {
    "name": "ipython",
    "version": 3
   },
   "file_extension": ".py",
   "mimetype": "text/x-python",
   "name": "python",
   "nbconvert_exporter": "python",
   "pygments_lexer": "ipython3",
   "version": "3.11.7"
  }
 },
 "nbformat": 4,
 "nbformat_minor": 4
}
