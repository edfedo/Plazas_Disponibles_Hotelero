{
 "cells": [
  {
   "cell_type": "markdown",
   "metadata": {},
   "source": [
    "# Plazas Disponibles Hotelero"
   ]
  },
  {
   "cell_type": "markdown",
   "metadata": {},
   "source": [
    "**Importacion de las librerias necesarias**"
   ]
  },
  {
   "cell_type": "code",
   "execution_count": 13,
   "metadata": {},
   "outputs": [],
   "source": [
    "from datetime import datetime\n",
    "import numpy as np\n",
    "import pandas as pd\n",
    "import matplotlib.pyplot as plt\n",
    "import seaborn as sns\n",
    "from sklearn.linear_model import LogisticRegression\n",
    "from sklearn.metrics import accuracy_score, classification_report,confusion_matrix\n",
    "from sklearn.model_selection import train_test_split,KFold,cross_val_score\n",
    "from sklearn.svm import SVC\n",
    "from imblearn.over_sampling import SMOTE\n",
    "from sklearn.preprocessing import StandardScaler\n",
    "from mpl_toolkits.mplot3d import Axes3D\n",
    "from sklearn.decomposition import PCA\n",
    "#!pip3 install ipympl"
   ]
  },
  {
   "cell_type": "markdown",
   "metadata": {},
   "source": [
    "**Lectura de datos de Analisis en bruto**"
   ]
  },
  {
   "cell_type": "code",
   "execution_count": 14,
   "metadata": {
    "scrolled": true
   },
   "outputs": [
    {
     "name": "stdout",
     "output_type": "stream",
     "text": [
      "  Oferta hotelera, indicadores seleccionados por sector. Ushuaia, Pcia. de Tierra del Fuego, Antártida e Islas del Atlántico Sur  \\\n",
      "0                                                NaN                                                                               \n",
      "1                                            Período                                                                               \n",
      "2                                                NaN                                                                               \n",
      "3                                                NaN                                                                               \n",
      "4                                                NaN                                                                               \n",
      "\n",
      "  Unnamed: 1  Unnamed: 2        Unnamed: 3          Unnamed: 4  \\\n",
      "0        NaN         NaN               NaN                 NaN   \n",
      "1        NaN         NaN   Sector Hotelero                 NaN   \n",
      "2        NaN         NaN  Establecimientos  Plazas disponibles   \n",
      "3        NaN         NaN               NaN                 NaN   \n",
      "4        NaN         NaN               NaN                 NaN   \n",
      "\n",
      "                            Unnamed: 5  Unnamed: 6           Unnamed: 7  \\\n",
      "0                                  NaN         NaN                  NaN   \n",
      "1                                  NaN         NaN  Sector Parahotelero   \n",
      "2  Habitaciones o Unidades disponibles         NaN     Establecimientos   \n",
      "3                                  NaN         NaN                  NaN   \n",
      "4                                  NaN         NaN                  NaN   \n",
      "\n",
      "           Unnamed: 8                           Unnamed: 9  \n",
      "0                 NaN                                  NaN  \n",
      "1                 NaN                                  NaN  \n",
      "2  Plazas disponibles  Habitaciones o Unidades disponibles  \n",
      "3                 NaN                                  NaN  \n",
      "4                 NaN                                  NaN  \n"
     ]
    }
   ],
   "source": [
    "\n",
    "# URL del archivo de Excel en GitHub (asegúrate de que es la URL \"Raw\")\n",
    "#url = 'https://github.com/tu-usuario/tu-repositorio/raw/main/16_3_02_Oferta_Hotelera_por-sector.xlsx'\n",
    "\n",
    "# Leer el archivo de Excel desde la URL\n",
    "datosH = pd.read_excel(\"../data/external/16_3_02_Oferta_Hotelera_por-sector.xlsx\", sheet_name=\"Ushuaia\", skipfooter=2)\n",
    "\n",
    "# Mostrar las primeras filas del DataFrame\n",
    "print(datosH.head())\n",
    "\n",
    "# Si quieres mostrar todas las filas, usa:\n",
    "#print(datos)"
   ]
  },
  {
   "cell_type": "markdown",
   "metadata": {},
   "source": [
    "**Este código hace lo siguiente:**\n",
    "\n",
    "Muestra Dentro de los Datos solo la pestaña del Sector hotelero"
   ]
  },
  {
   "cell_type": "code",
   "execution_count": 15,
   "metadata": {
    "scrolled": true
   },
   "outputs": [
    {
     "name": "stdout",
     "output_type": "stream",
     "text": [
      "     Periodo             Mes Establecimientos Plazas disponibles  \\\n",
      "0     2008.0           enero               43              96224   \n",
      "1        NaN         febrero               44              87580   \n",
      "2        NaN           marzo               44              96069   \n",
      "3        NaN           abril               43              90570   \n",
      "4        NaN            mayo               42              90737   \n",
      "..       ...             ...              ...                ...   \n",
      "187      NaN      agosto (*)               33             118885   \n",
      "188      NaN  septiembre (*)               33             115050   \n",
      "189      NaN      octubre(*)               33             118637   \n",
      "190      NaN    noviembre(*)               33             113400   \n",
      "191      NaN    diciembre(*)               33             115613   \n",
      "\n",
      "    Habitaciones o Unidades disponibles  \n",
      "0                                 38936  \n",
      "1                                 34945  \n",
      "2                                 38998  \n",
      "3                                 36480  \n",
      "4                                 37386  \n",
      "..                                  ...  \n",
      "187                               48763  \n",
      "188                               47190  \n",
      "189                               48783  \n",
      "190                               46380  \n",
      "191                               48626  \n",
      "\n",
      "[192 rows x 5 columns]\n"
     ]
    }
   ],
   "source": [
    "\n",
    "# URL del archivo de Excel en GitHub (asegúrate de que es la URL \"Raw\")\n",
    "#url = 'https://github.com/tu-usuario/tu-repositorio/raw/main/16_3_02_Oferta_Hotelera_por-sector.xlsx'\n",
    "\n",
    "# Leer el archivo de Excel desde la URL\n",
    "datos1 = pd.read_excel(\"../data/external/LIMPIO_16_3_02_Oferta_Hotelera_por-sector_LIMPIO.xlsx\", sheet_name=\"Ushuaia_1\", skipfooter=2)\n",
    "\n",
    "# Mostrar las primeras filas del DataFrame\n",
    "#print(datos.head())\n",
    "\n",
    "# Si quieres mostrar todas las filas, usa:\n",
    "print(datos1)"
   ]
  },
  {
   "cell_type": "markdown",
   "metadata": {},
   "source": [
    "**Este código hace lo siguiente:**\n",
    "\n",
    "Muestra Dentro de los Datos solo la pestaña del Sector Parahotelero"
   ]
  },
  {
   "cell_type": "code",
   "execution_count": 16,
   "metadata": {},
   "outputs": [
    {
     "name": "stdout",
     "output_type": "stream",
     "text": [
      "     Periodo             Mes Establecimientos Plazas disponibles  \\\n",
      "0     2008.0           enero              104              70649   \n",
      "1        NaN         febrero              103              64467   \n",
      "2        NaN           marzo              103              68359   \n",
      "3        NaN           abril               94              57410   \n",
      "4        NaN            mayo               77              43314   \n",
      "..       ...             ...              ...                ...   \n",
      "187      NaN      agosto (*)               37              33635   \n",
      "188      NaN  septiembre (*)               37              34620   \n",
      "189      NaN      octubre(*)               43              37975   \n",
      "190      NaN    noviembre(*)               42              35970   \n",
      "191      NaN    diciembre(*)               42              39742   \n",
      "\n",
      "    Habitaciones o Unidades disponibles  \n",
      "0                                 21452  \n",
      "1                                 19372  \n",
      "2                                 20864  \n",
      "3                                 17750  \n",
      "4                                 13488  \n",
      "..                                  ...  \n",
      "187                                7936  \n",
      "188                                8070  \n",
      "189                                9052  \n",
      "190                                7890  \n",
      "191                               10385  \n",
      "\n",
      "[192 rows x 5 columns]\n"
     ]
    }
   ],
   "source": [
    "# URL del archivo de Excel en GitHub (asegúrate de que es la URL \"Raw\")\n",
    "#url = 'https://github.com/tu-usuario/tu-repositorio/raw/main/16_3_02_Oferta_Hotelera_por-sector.xlsx'\n",
    "\n",
    "# Leer el archivo de Excel desde la URL\n",
    "datos2 = pd.read_excel(\"../data/external/LIMPIO_16_3_02_Oferta_Hotelera_por-sector_LIMPIO.xlsx\", sheet_name=\"Ushuaia_2\", skipfooter=2)\n",
    "\n",
    "# Mostrar las primeras filas del DataFrame\n",
    "#print(datos.head())\n",
    "\n",
    "# Si quieres mostrar todas las filas, usa:\n",
    "print(datos2)"
   ]
  },
  {
   "cell_type": "markdown",
   "metadata": {},
   "source": [
    "**Unir los DataFrames / visualización de información de sus columnas**\n",
    "\n",
    "Muestra Dentro de los Datos solo la pestaña del Sector Parahotelero"
   ]
  },
  {
   "cell_type": "code",
   "execution_count": 20,
   "metadata": {
    "scrolled": true
   },
   "outputs": [
    {
     "name": "stdout",
     "output_type": "stream",
     "text": [
      "<class 'pandas.core.frame.DataFrame'>\n",
      "Int64Index: 384 entries, 0 to 191\n",
      "Data columns (total 5 columns):\n",
      " #   Column                               Non-Null Count  Dtype  \n",
      "---  ------                               --------------  -----  \n",
      " 0   Periodo                              32 non-null     float64\n",
      " 1   Mes                                  384 non-null    object \n",
      " 2   Establecimientos                     384 non-null    object \n",
      " 3   Plazas disponibles                   384 non-null    object \n",
      " 4   Habitaciones o Unidades disponibles  384 non-null    object \n",
      "dtypes: float64(1), object(4)\n",
      "memory usage: 18.0+ KB\n"
     ]
    }
   ],
   "source": [
    "datosTotalHotel = pd.concat([datos1, datos2], axis=0)\n",
    "datosTotalHotel.info()"
   ]
  },
  {
   "cell_type": "markdown",
   "metadata": {},
   "source": [
    "**Calculo de medidas descriptivas**"
   ]
  },
  {
   "cell_type": "code",
   "execution_count": 21,
   "metadata": {},
   "outputs": [
    {
     "data": {
      "text/html": [
       "<div>\n",
       "<style scoped>\n",
       "    .dataframe tbody tr th:only-of-type {\n",
       "        vertical-align: middle;\n",
       "    }\n",
       "\n",
       "    .dataframe tbody tr th {\n",
       "        vertical-align: top;\n",
       "    }\n",
       "\n",
       "    .dataframe thead th {\n",
       "        text-align: right;\n",
       "    }\n",
       "</style>\n",
       "<table border=\"1\" class=\"dataframe\">\n",
       "  <thead>\n",
       "    <tr style=\"text-align: right;\">\n",
       "      <th></th>\n",
       "      <th>Periodo</th>\n",
       "    </tr>\n",
       "  </thead>\n",
       "  <tbody>\n",
       "    <tr>\n",
       "      <th>count</th>\n",
       "      <td>32.000000</td>\n",
       "    </tr>\n",
       "    <tr>\n",
       "      <th>mean</th>\n",
       "      <td>2015.500000</td>\n",
       "    </tr>\n",
       "    <tr>\n",
       "      <th>std</th>\n",
       "      <td>4.683533</td>\n",
       "    </tr>\n",
       "    <tr>\n",
       "      <th>min</th>\n",
       "      <td>2008.000000</td>\n",
       "    </tr>\n",
       "    <tr>\n",
       "      <th>25%</th>\n",
       "      <td>2011.750000</td>\n",
       "    </tr>\n",
       "    <tr>\n",
       "      <th>50%</th>\n",
       "      <td>2015.500000</td>\n",
       "    </tr>\n",
       "    <tr>\n",
       "      <th>75%</th>\n",
       "      <td>2019.250000</td>\n",
       "    </tr>\n",
       "    <tr>\n",
       "      <th>max</th>\n",
       "      <td>2023.000000</td>\n",
       "    </tr>\n",
       "  </tbody>\n",
       "</table>\n",
       "</div>"
      ],
      "text/plain": [
       "           Periodo\n",
       "count    32.000000\n",
       "mean   2015.500000\n",
       "std       4.683533\n",
       "min    2008.000000\n",
       "25%    2011.750000\n",
       "50%    2015.500000\n",
       "75%    2019.250000\n",
       "max    2023.000000"
      ]
     },
     "execution_count": 21,
     "metadata": {},
     "output_type": "execute_result"
    }
   ],
   "source": [
    "datosTotalHotel.describe()"
   ]
  }
 ],
 "metadata": {
  "kernelspec": {
   "display_name": "Python 3 (ipykernel)",
   "language": "python",
   "name": "python3"
  },
  "language_info": {
   "codemirror_mode": {
    "name": "ipython",
    "version": 3
   },
   "file_extension": ".py",
   "mimetype": "text/x-python",
   "name": "python",
   "nbconvert_exporter": "python",
   "pygments_lexer": "ipython3",
   "version": "3.11.7"
  }
 },
 "nbformat": 4,
 "nbformat_minor": 4
}
