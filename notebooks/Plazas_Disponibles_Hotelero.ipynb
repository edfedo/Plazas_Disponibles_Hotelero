{
 "cells": [
  {
   "cell_type": "markdown",
   "metadata": {},
   "source": [
    "# Plazas Disponibles Hotelero"
   ]
  },
  {
   "cell_type": "markdown",
   "metadata": {},
   "source": [
    "**Importacion de las librerias necesarias**"
   ]
  },
  {
   "cell_type": "code",
   "execution_count": 3,
   "metadata": {},
   "outputs": [],
   "source": [
    "from datetime import datetime\n",
    "import numpy as np\n",
    "import pandas as pd\n",
    "import matplotlib.pyplot as plt\n",
    "import seaborn as sns\n",
    "from sklearn.linear_model import LogisticRegression\n",
    "from sklearn.metrics import accuracy_score, classification_report,confusion_matrix\n",
    "from sklearn.model_selection import train_test_split,KFold,cross_val_score\n",
    "from sklearn.svm import SVC\n",
    "from imblearn.over_sampling import SMOTE\n",
    "from sklearn.preprocessing import StandardScaler\n",
    "from mpl_toolkits.mplot3d import Axes3D\n",
    "from sklearn.decomposition import PCA\n",
    "#!pip3 install ipympl"
   ]
  },
  {
   "cell_type": "markdown",
   "metadata": {},
   "source": [
    "**Lectura de datos de Analisis en bruto**"
   ]
  },
  {
   "cell_type": "code",
   "execution_count": 4,
   "metadata": {
    "scrolled": true
   },
   "outputs": [
    {
     "name": "stdout",
     "output_type": "stream",
     "text": [
      "  Oferta hotelera, indicadores seleccionados por sector. Ushuaia, Pcia. de Tierra del Fuego, Antártida e Islas del Atlántico Sur  \\\n",
      "0                                                NaN                                                                               \n",
      "1                                            Período                                                                               \n",
      "2                                                NaN                                                                               \n",
      "3                                                NaN                                                                               \n",
      "4                                                NaN                                                                               \n",
      "\n",
      "  Unnamed: 1  Unnamed: 2        Unnamed: 3          Unnamed: 4  \\\n",
      "0        NaN         NaN               NaN                 NaN   \n",
      "1        NaN         NaN   Sector Hotelero                 NaN   \n",
      "2        NaN         NaN  Establecimientos  Plazas disponibles   \n",
      "3        NaN         NaN               NaN                 NaN   \n",
      "4        NaN         NaN               NaN                 NaN   \n",
      "\n",
      "                            Unnamed: 5  Unnamed: 6           Unnamed: 7  \\\n",
      "0                                  NaN         NaN                  NaN   \n",
      "1                                  NaN         NaN  Sector Parahotelero   \n",
      "2  Habitaciones o Unidades disponibles         NaN     Establecimientos   \n",
      "3                                  NaN         NaN                  NaN   \n",
      "4                                  NaN         NaN                  NaN   \n",
      "\n",
      "           Unnamed: 8                           Unnamed: 9  \n",
      "0                 NaN                                  NaN  \n",
      "1                 NaN                                  NaN  \n",
      "2  Plazas disponibles  Habitaciones o Unidades disponibles  \n",
      "3                 NaN                                  NaN  \n",
      "4                 NaN                                  NaN  \n"
     ]
    }
   ],
   "source": [
    "\n",
    "# URL del archivo de Excel en GitHub (asegúrate de que es la URL \"Raw\")\n",
    "#url = 'https://github.com/tu-usuario/tu-repositorio/raw/main/16_3_02_Oferta_Hotelera_por-sector.xlsx'\n",
    "\n",
    "# Leer el archivo de Excel desde la URL\n",
    "datos = pd.read_excel(\"../data/external/16_3_02_Oferta_Hotelera_por-sector.xlsx\", sheet_name=\"Ushuaia\", skipfooter=2)\n",
    "\n",
    "# Mostrar las primeras filas del DataFrame\n",
    "print(datos.head())\n",
    "\n",
    "# Si quieres mostrar todas las filas, usa:\n",
    "#print(datos)"
   ]
  },
  {
   "cell_type": "markdown",
   "metadata": {},
   "source": [
    "**Este código hace lo siguiente:**\n",
    "\n",
    "Muestra Dentro de los Datos solo la pestaña del Sector hotelero"
   ]
  },
  {
   "cell_type": "code",
   "execution_count": 15,
   "metadata": {
    "scrolled": true
   },
   "outputs": [
    {
     "name": "stdout",
     "output_type": "stream",
     "text": [
      "     Periodo             Mes Establecimientos Plazas disponibles  \\\n",
      "0     2008.0           enero               43              96224   \n",
      "1        NaN         febrero               44              87580   \n",
      "2        NaN           marzo               44              96069   \n",
      "3        NaN           abril               43              90570   \n",
      "4        NaN            mayo               42              90737   \n",
      "..       ...             ...              ...                ...   \n",
      "187      NaN      agosto (*)               33             118885   \n",
      "188      NaN  septiembre (*)               33             115050   \n",
      "189      NaN      octubre(*)               33             118637   \n",
      "190      NaN    noviembre(*)               33             113400   \n",
      "191      NaN    diciembre(*)               33             115613   \n",
      "\n",
      "    Habitaciones o Unidades disponibles  \n",
      "0                                 38936  \n",
      "1                                 34945  \n",
      "2                                 38998  \n",
      "3                                 36480  \n",
      "4                                 37386  \n",
      "..                                  ...  \n",
      "187                               48763  \n",
      "188                               47190  \n",
      "189                               48783  \n",
      "190                               46380  \n",
      "191                               48626  \n",
      "\n",
      "[192 rows x 5 columns]\n"
     ]
    }
   ],
   "source": [
    "\n",
    "# URL del archivo de Excel en GitHub (asegúrate de que es la URL \"Raw\")\n",
    "#url = 'https://github.com/tu-usuario/tu-repositorio/raw/main/16_3_02_Oferta_Hotelera_por-sector.xlsx'\n",
    "\n",
    "# Leer el archivo de Excel desde la URL\n",
    "datos = pd.read_excel(\"../data/external/LIMPIO_16_3_02_Oferta_Hotelera_por-sector_LIMPIO.xlsx\", sheet_name=\"Ushuaia_1\", skipfooter=2)\n",
    "\n",
    "# Mostrar las primeras filas del DataFrame\n",
    "#print(datos.head())\n",
    "\n",
    "# Si quieres mostrar todas las filas, usa:\n",
    "print(datos)"
   ]
  },
  {
   "cell_type": "markdown",
   "metadata": {},
   "source": [
    "**Este código hace lo siguiente:**\n",
    "\n",
    "Muestra Dentro de los Datos solo la pestaña del Sector Parahotelero"
   ]
  },
  {
   "cell_type": "code",
   "execution_count": 14,
   "metadata": {},
   "outputs": [
    {
     "name": "stdout",
     "output_type": "stream",
     "text": [
      "     Periodo             Mes Establecimientos Plazas disponibles  \\\n",
      "0     2008.0           enero              104              70649   \n",
      "1        NaN         febrero              103              64467   \n",
      "2        NaN           marzo              103              68359   \n",
      "3        NaN           abril               94              57410   \n",
      "4        NaN            mayo               77              43314   \n",
      "..       ...             ...              ...                ...   \n",
      "187      NaN      agosto (*)               37              33635   \n",
      "188      NaN  septiembre (*)               37              34620   \n",
      "189      NaN      octubre(*)               43              37975   \n",
      "190      NaN    noviembre(*)               42              35970   \n",
      "191      NaN    diciembre(*)               42              39742   \n",
      "\n",
      "    Habitaciones o Unidades disponibles  \n",
      "0                                 21452  \n",
      "1                                 19372  \n",
      "2                                 20864  \n",
      "3                                 17750  \n",
      "4                                 13488  \n",
      "..                                  ...  \n",
      "187                                7936  \n",
      "188                                8070  \n",
      "189                                9052  \n",
      "190                                7890  \n",
      "191                               10385  \n",
      "\n",
      "[192 rows x 5 columns]\n"
     ]
    }
   ],
   "source": [
    "# URL del archivo de Excel en GitHub (asegúrate de que es la URL \"Raw\")\n",
    "#url = 'https://github.com/tu-usuario/tu-repositorio/raw/main/16_3_02_Oferta_Hotelera_por-sector.xlsx'\n",
    "\n",
    "# Leer el archivo de Excel desde la URL\n",
    "datos = pd.read_excel(\"../data/external/LIMPIO_16_3_02_Oferta_Hotelera_por-sector_LIMPIO.xlsx\", sheet_name=\"Ushuaia_2\", skipfooter=2)\n",
    "\n",
    "# Mostrar las primeras filas del DataFrame\n",
    "#print(datos.head())\n",
    "\n",
    "# Si quieres mostrar todas las filas, usa:\n",
    "print(datos)"
   ]
  },
  {
   "cell_type": "code",
   "execution_count": null,
   "metadata": {},
   "outputs": [],
   "source": []
  }
 ],
 "metadata": {
  "kernelspec": {
   "display_name": "Python 3 (ipykernel)",
   "language": "python",
   "name": "python3"
  },
  "language_info": {
   "codemirror_mode": {
    "name": "ipython",
    "version": 3
   },
   "file_extension": ".py",
   "mimetype": "text/x-python",
   "name": "python",
   "nbconvert_exporter": "python",
   "pygments_lexer": "ipython3",
   "version": "3.11.7"
  }
 },
 "nbformat": 4,
 "nbformat_minor": 4
}
