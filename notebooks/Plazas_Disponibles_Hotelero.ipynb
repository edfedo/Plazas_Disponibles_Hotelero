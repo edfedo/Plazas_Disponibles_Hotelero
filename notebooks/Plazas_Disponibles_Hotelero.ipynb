{
 "cells": [
  {
   "cell_type": "markdown",
   "metadata": {},
   "source": [
    "# Plazas Disponibles Hotelero"
   ]
  },
  {
   "cell_type": "markdown",
   "metadata": {},
   "source": [
    "**Importacion de las librerias necesarias**"
   ]
  },
  {
   "cell_type": "code",
   "execution_count": 2,
   "metadata": {},
   "outputs": [],
   "source": [
    "from datetime import datetime\n",
    "import numpy as np\n",
    "import pandas as pd\n",
    "import matplotlib.pyplot as plt\n",
    "import seaborn as sns\n",
    "from sklearn.linear_model import LogisticRegression\n",
    "from sklearn.metrics import accuracy_score, classification_report,confusion_matrix\n",
    "from sklearn.model_selection import train_test_split,KFold,cross_val_score\n",
    "from sklearn.svm import SVC\n",
    "from imblearn.over_sampling import SMOTE\n",
    "from sklearn.preprocessing import StandardScaler\n",
    "from mpl_toolkits.mplot3d import Axes3D\n",
    "from sklearn.decomposition import PCA\n",
    "#!pip3 install ipympl"
   ]
  },
  {
   "cell_type": "markdown",
   "metadata": {},
   "source": [
    "**Lectura de los datos de Analisis 2021**"
   ]
  },
  {
   "cell_type": "code",
   "execution_count": 6,
   "metadata": {},
   "outputs": [
    {
     "name": "stdout",
     "output_type": "stream",
     "text": [
      "  Oferta hotelera, indicadores seleccionados por sector. Ushuaia, Pcia. de Tierra del Fuego, Antártida e Islas del Atlántico Sur  \\\n",
      "0                                                NaN                                                                               \n",
      "1                                            Período                                                                               \n",
      "2                                                NaN                                                                               \n",
      "3                                                NaN                                                                               \n",
      "4                                                NaN                                                                               \n",
      "\n",
      "  Unnamed: 1  Unnamed: 2        Unnamed: 3          Unnamed: 4  \\\n",
      "0        NaN         NaN               NaN                 NaN   \n",
      "1        NaN         NaN   Sector Hotelero                 NaN   \n",
      "2        NaN         NaN  Establecimientos  Plazas disponibles   \n",
      "3        NaN         NaN               NaN                 NaN   \n",
      "4        NaN         NaN               NaN                 NaN   \n",
      "\n",
      "                            Unnamed: 5  Unnamed: 6           Unnamed: 7  \\\n",
      "0                                  NaN         NaN                  NaN   \n",
      "1                                  NaN         NaN  Sector Parahotelero   \n",
      "2  Habitaciones o Unidades disponibles         NaN     Establecimientos   \n",
      "3                                  NaN         NaN                  NaN   \n",
      "4                                  NaN         NaN                  NaN   \n",
      "\n",
      "           Unnamed: 8                           Unnamed: 9  \n",
      "0                 NaN                                  NaN  \n",
      "1                 NaN                                  NaN  \n",
      "2  Plazas disponibles  Habitaciones o Unidades disponibles  \n",
      "3                 NaN                                  NaN  \n",
      "4                 NaN                                  NaN  \n"
     ]
    }
   ],
   "source": [
    "\n",
    "# URL del archivo de Excel en GitHub (asegúrate de que es la URL \"Raw\")\n",
    "#url = 'https://github.com/tu-usuario/tu-repositorio/raw/main/16_3_02_Oferta_Hotelera_por-sector.xlsx'\n",
    "\n",
    "# Leer el archivo de Excel desde la URL\n",
    "datos = pd.read_excel(\"../data/external/16_3_02_Oferta_Hotelera_por-sector.xlsx\", sheet_name=\"Ushuaia\", skipfooter=2)\n",
    "\n",
    "# Mostrar las primeras filas del DataFrame\n",
    "print(datos.head())\n",
    "\n",
    "# Si quieres mostrar todas las filas, usa:\n",
    "#print(datos)"
   ]
  },
  {
   "cell_type": "markdown",
   "metadata": {},
   "source": [
    "**Este código hace lo siguiente:**\n",
    "\n",
    "Lee el archivo de Excel desde una URL.\n",
    "Elimina las dos primeras filas que contienen datos no relevantes para el análisis.\n",
    "Renombra las columnas del DataFrame para que sean más descriptivas.\n",
    "Resetea el índice del DataFrame.\n",
    "Imprime todas las filas del DataFrame para revisar los datos de forma ordenada.\n",
    "Este enfoque garantiza que los datos se presenten de una manera clara y organizada para su análisis."
   ]
  },
  {
   "cell_type": "code",
   "execution_count": 9,
   "metadata": {},
   "outputs": [
    {
     "name": "stdout",
     "output_type": "stream",
     "text": [
      "                                               Periodo Unnamed: 1  Unnamed: 2  \\\n",
      "0                                                  NaN        NaN         NaN   \n",
      "1                                                  NaN        NaN         NaN   \n",
      "2                                                  NaN        NaN         NaN   \n",
      "3                                                  NaN        NaN         NaN   \n",
      "4                                                 2008      enero         NaN   \n",
      "..                                                 ...        ...         ...   \n",
      "201  s Dato confidencial por aplicación de las regl...        NaN         NaN   \n",
      "202                                                NaN        NaN         NaN   \n",
      "203  Nota: Para la localidad de Ushuaia, se aplica ...        NaN         NaN   \n",
      "204                                                NaN        NaN         NaN   \n",
      "205  El impacto de la COVID-19 en la Encuesta de Oc...        NaN         NaN   \n",
      "\n",
      "    Sector Hotelero - Establecimientos Sector Hotelero - Plazas disponibles  \\\n",
      "0                     Establecimientos                   Plazas disponibles   \n",
      "1                                  NaN                                  NaN   \n",
      "2                                  NaN                                  NaN   \n",
      "3                                  NaN                                  NaN   \n",
      "4                                   43                                96224   \n",
      "..                                 ...                                  ...   \n",
      "201                                NaN                                  NaN   \n",
      "202                                NaN                                  NaN   \n",
      "203                                NaN                                  NaN   \n",
      "204                                NaN                                  NaN   \n",
      "205                                NaN                                  NaN   \n",
      "\n",
      "    Sector Hotelero - Habitaciones o Unidades disponibles  Unnamed: 6  \\\n",
      "0                  Habitaciones o Unidades disponibles            NaN   \n",
      "1                                                  NaN            NaN   \n",
      "2                                                  NaN            NaN   \n",
      "3                                                  NaN            NaN   \n",
      "4                                                38936            NaN   \n",
      "..                                                 ...            ...   \n",
      "201                                                NaN            NaN   \n",
      "202                                                NaN            NaN   \n",
      "203                                                NaN            NaN   \n",
      "204                                                NaN            NaN   \n",
      "205                                                NaN            NaN   \n",
      "\n",
      "    Sector Parahotelero - Establecimientos  \\\n",
      "0                         Establecimientos   \n",
      "1                                      NaN   \n",
      "2                                      NaN   \n",
      "3                                      NaN   \n",
      "4                                      104   \n",
      "..                                     ...   \n",
      "201                                    NaN   \n",
      "202                                    NaN   \n",
      "203                                    NaN   \n",
      "204                                    NaN   \n",
      "205                                    NaN   \n",
      "\n",
      "    Sector Parahotelero - Plazas disponibles  \\\n",
      "0                         Plazas disponibles   \n",
      "1                                        NaN   \n",
      "2                                        NaN   \n",
      "3                                        NaN   \n",
      "4                                      70649   \n",
      "..                                       ...   \n",
      "201                                      NaN   \n",
      "202                                      NaN   \n",
      "203                                      NaN   \n",
      "204                                      NaN   \n",
      "205                                      NaN   \n",
      "\n",
      "    Sector Parahotelero - Habitaciones o Unidades disponibles  \n",
      "0                  Habitaciones o Unidades disponibles         \n",
      "1                                                  NaN         \n",
      "2                                                  NaN         \n",
      "3                                                  NaN         \n",
      "4                                                21452         \n",
      "..                                                 ...         \n",
      "201                                                NaN         \n",
      "202                                                NaN         \n",
      "203                                                NaN         \n",
      "204                                                NaN         \n",
      "205                                                NaN         \n",
      "\n",
      "[206 rows x 10 columns]\n"
     ]
    }
   ],
   "source": [
    "# URL del archivo de Excel en GitHub (asegúrate de que es la URL \"Raw\")\n",
    "#url = 'https://github.com/tu-usuario/tu-repositorio/raw/main/16_3_02_Oferta_Hotelera_por-sector.xlsx'\n",
    "\n",
    "# Leer el archivo de Excel desde la URL\n",
    "datos = pd.read_excel(\"../data/external/16_3_02_Oferta_Hotelera_por-sector.xlsx\", sheet_name='Ushuaia', skipfooter=2)\n",
    "\n",
    "# Eliminar las filas innecesarias (en este caso, las primeras 2 filas)\n",
    "datos = datos.drop([0, 1])\n",
    "\n",
    "# Ajustar los nombres de las columnas\n",
    "nuevas_columnas = [\n",
    "    'Periodo', 'Unnamed: 1', 'Unnamed: 2', 'Sector Hotelero - Establecimientos',\n",
    "    'Sector Hotelero - Plazas disponibles', 'Sector Hotelero - Habitaciones o Unidades disponibles',\n",
    "    'Unnamed: 6', 'Sector Parahotelero - Establecimientos',\n",
    "    'Sector Parahotelero - Plazas disponibles', 'Sector Parahotelero - Habitaciones o Unidades disponibles'\n",
    "]\n",
    "datos.columns = nuevas_columnas\n",
    "\n",
    "# Resetear el índice\n",
    "datos.reset_index(drop=True, inplace=True)\n",
    "\n",
    "# Mostrar todas las filas del DataFrame de forma ordenada\n",
    "print(datos)\n",
    "\n",
    "# Si quieres mostrar solo las primeras filas ordenadamente, puedes usar:\n",
    "# print(datos.head())\n"
   ]
  },
  {
   "cell_type": "code",
   "execution_count": null,
   "metadata": {},
   "outputs": [],
   "source": []
  }
 ],
 "metadata": {
  "kernelspec": {
   "display_name": "Python 3 (ipykernel)",
   "language": "python",
   "name": "python3"
  },
  "language_info": {
   "codemirror_mode": {
    "name": "ipython",
    "version": 3
   },
   "file_extension": ".py",
   "mimetype": "text/x-python",
   "name": "python",
   "nbconvert_exporter": "python",
   "pygments_lexer": "ipython3",
   "version": "3.11.7"
  }
 },
 "nbformat": 4,
 "nbformat_minor": 4
}
